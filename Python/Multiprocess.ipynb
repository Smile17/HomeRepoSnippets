{
 "cells": [
  {
   "cell_type": "code",
   "execution_count": 42,
   "id": "6f0ed04b-a13e-4f77-97fa-c0c25c200652",
   "metadata": {},
   "outputs": [
    {
     "name": "stdout",
     "output_type": "stream",
     "text": [
      "Duration = 0.03995966911315918\n"
     ]
    },
    {
     "data": {
      "image/png": "[encoded data removed]",
      "text/plain": [
       "<Figure size 640x480 with 1 Axes>"
      ]
     },
     "metadata": {},
     "output_type": "display_data"
    }
   ],
   "source": [
    "\"\"\"\n",
    "Завдання 1\n",
    "Створіть функцію для обчислення факторіала числа. Запустіть декілька завдань, використовуючи Thread, і заміряйте швидкість їхнього виконання, \n",
    "а потім заміряйте швидкість обчислення, використовуючи той же набір завдань на ThreadPoolExecutor. Як приклади використовуйте останні значення, \n",
    "від мінімальних і до максимально можливих, щоб побачити приріст або втрату продуктивності.\n",
    "\"\"\"\n",
    "import concurrent.futures\n",
    "import requests\n",
    "import threading\n",
    "import time\n",
    "\n",
    "import functools\n",
    "import operator\n",
    "\n",
    "def get_duration(func):\n",
    "    @functools.wraps(func)\n",
    "    def wrapper(*args, **kwargs):\n",
    "        start_time = time.time()\n",
    "        res = func(*args, **kwargs)\n",
    "        duration = time.time() - start_time\n",
    "        print(f\"Duration = {duration}\")\n",
    "        return res\n",
    "    return wrapper\n",
    "\n",
    "\n",
    "\n",
    "def save_duration(duration_arr):\n",
    "    @functools.wraps(duration_arr)\n",
    "    def get_duration(func):\n",
    "        @functools.wraps(func)\n",
    "        def wrapper(*args, **kwargs):\n",
    "            start_time = time.time()\n",
    "            res = func(*args, **kwargs)\n",
    "            duration = time.time() - start_time\n",
    "            duration_arr.append((*args, duration))\n",
    "            return res\n",
    "        return wrapper\n",
    "    return get_duration\n",
    "\n",
    "durations_fact = []\n",
    "@save_duration(durations_fact)\n",
    "def factorial(n):\n",
    "    return functools.reduce(operator.mul, range(1, n + 1))\n",
    "\n",
    "@get_duration\n",
    "def calculate_factorials(arr):\n",
    "    with concurrent.futures.ThreadPoolExecutor(max_workers=15) as executor:\n",
    "        results = executor.map(factorial, arr)\n",
    "        #print(list(results))\n",
    "\n",
    "\n",
    "arr = list(range(200, 300, 10)) * 10\n",
    "\n",
    "calculate_factorials(arr)\n",
    "\n",
    "import matplotlib.pyplot as plt\n",
    "x, y = res = list(zip(*durations_fact))\n",
    "plt.scatter(x, y)\n",
    "plt.title(\"Factorial calculation depend on input data\")\n",
    "plt.show()"
   ]
  },
  {
   "cell_type": "code",
   "execution_count": 55,
   "id": "25298cbb-b8b5-4e6d-bb04-91a1b0485822",
   "metadata": {},
   "outputs": [
    {
     "name": "stdout",
     "output_type": "stream",
     "text": [
      "Main thread is waiting for reading file\n",
      "Line1: sjkf sdfs\n",
      "Line2: Wow! sfsd\n",
      "Found\n",
      "event set: True\n"
     ]
    }
   ],
   "source": [
    "\"\"\"\n",
    "Завдання 2\n",
    "Створіть три функції, одна з яких читає файл на диску із заданим ім'ям та перевіряє наявність рядка «Wow!». \n",
    "Якщо файлу немає, то засипає на 5 секунд, а потім знову продовжує пошук по файлу. Якщо файл є, то відкриває його і шукає рядок «Wow!». \n",
    "За наявності цього рядка закриває файл і генерує подію, а інша функція чекає на цю подію і у разі її виникнення виконує видалення цього файлу. \n",
    "Якщо рядки «Wow!» не було знайдено у файлі, то засипати на 5 секунд. Створіть файл руками та перевірте виконання програми.\n",
    "\"\"\"\n",
    "import os\n",
    "from threading import Thread\n",
    "from threading import Event\n",
    "\n",
    "def read_file(e, path):\n",
    "    if not os.path.isfile(path):\n",
    "        print('File is not found')\n",
    "        time.sleep(5)\n",
    "        print('Done...')\n",
    "        return\n",
    "    with open(path) as file:\n",
    "        count = 0\n",
    "        isFound = False\n",
    "        while True:\n",
    "            count += 1\n",
    "            line = file.readline()\n",
    "            if not line:\n",
    "                break\n",
    "            print(\"Line{}: {}\".format(count, line.strip()))\n",
    "            if 'Wow!' in line:\n",
    "                isFound = True\n",
    "                break\n",
    "        if isFound:\n",
    "            # raise event\n",
    "            print('Found')\n",
    "            e.set()\n",
    "            \n",
    "        else:\n",
    "            print('Wow! is not found')\n",
    "            time.sleep(5)\n",
    "            print('Done...')\n",
    "\n",
    "def main_wait(e):\n",
    "    print('Main thread is waiting for reading file')\n",
    "    event_is_set = e.wait()\n",
    "    print('event set:', event_is_set)\n",
    "\n",
    "\n",
    "if __name__ == '__main__':\n",
    "    path = 'data/input.txt'\n",
    "    e = threading.Event()\n",
    "    t1 = threading.Thread(name='blocking', \n",
    "                      target=main_wait,\n",
    "                      args=(e,))\n",
    "    t1.start()\n",
    "\n",
    "    time.sleep(5)\n",
    "    t2 = threading.Thread(name='reading-file', \n",
    "                      target=read_file, \n",
    "                      args=(e, path))\n",
    "    t2.start()"
   ]
  },
  {
   "cell_type": "code",
   "execution_count": null,
   "id": "7012a1b4-7814-4ade-a9ab-41c984cab899",
   "metadata": {},
   "outputs": [],
   "source": []
  }
 ],
 "metadata": {
  "kernelspec": {
   "display_name": "Python 3 (ipykernel)",
   "language": "python",
   "name": "python3"
  },
  "language_info": {
   "codemirror_mode": {
    "name": "ipython",
    "version": 3
   },
   "file_extension": ".py",
   "mimetype": "text/x-python",
   "name": "python",
   "nbconvert_exporter": "python",
   "pygments_lexer": "ipython3",
   "version": "3.11.1"
  }
 },
 "nbformat": 4,
 "nbformat_minor": 5
}
