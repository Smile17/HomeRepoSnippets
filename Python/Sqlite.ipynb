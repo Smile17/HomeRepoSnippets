{
 "cells": [
  {
   "cell_type": "code",
   "execution_count": 116,
   "id": "df398f17-9dd6-413c-bade-89a28d7294f9",
   "metadata": {},
   "outputs": [
    {
     "name": "stdout",
     "output_type": "stream",
     "text": [
      "Connection to SQLite DB successful\n",
      "Query executed successfully\n"
     ]
    }
   ],
   "source": [
    "import sqlite3\n",
    "from sqlite3 import Error\n",
    "\n",
    "def create_connection(path):\n",
    "    connection = None\n",
    "    try:\n",
    "        connection = sqlite3.connect(path)\n",
    "        print(\"Connection to SQLite DB successful\")\n",
    "    except Error as e:\n",
    "        print(f\"The error '{e}' occurred\")\n",
    "\n",
    "    return connection\n",
    "def execute_query(connection, query):\n",
    "    cursor = connection.cursor()\n",
    "    try:\n",
    "        cursor.execute(query)\n",
    "        connection.commit()\n",
    "        print(\"Query executed successfully\")\n",
    "    except Error as e:\n",
    "        print(f\"The error '{e}' occurred\")\n",
    "def execute_read_query(connection, query):\n",
    "    cursor = connection.cursor()\n",
    "    result = None\n",
    "    try:\n",
    "        cursor.execute(query)\n",
    "        result = cursor.fetchall()\n",
    "        return result\n",
    "    except Error as e:\n",
    "        print(f\"The error '{e}' occurred\")\n",
    "\n",
    "def read_all_data(table_name):\n",
    "    select_records = \"SELECT * from \" + table_name\n",
    "    records = execute_read_query(connection, select_records)\n",
    "\n",
    "    for rec in records:\n",
    "        print(rec)\n",
    "\n",
    "connection = create_connection(\"./data/sqliteDB\")\n",
    "\n",
    "# Завдання 1\n",
    "# Зробіть таблицю для підрахунку особистих витрат із такими полями: id, призначення, сума, час.\n",
    "create_table = \"\"\"\n",
    "CREATE TABLE IF NOT EXISTS spendings (\n",
    "  id INTEGER PRIMARY KEY AUTOINCREMENT,\n",
    "  purpose TEXT NOT NULL,\n",
    "  total REAL NOT NULL,\n",
    "  time TIMESTAMP NOT NULL\n",
    ");\n",
    "\"\"\"\n",
    "execute_query(connection, create_table)"
   ]
  },
  {
   "cell_type": "code",
   "execution_count": 48,
   "id": "fa91e0ba-0a20-44f8-a860-0b241744714f",
   "metadata": {},
   "outputs": [
    {
     "name": "stdout",
     "output_type": "stream",
     "text": [
      "Options:\n",
      "1:Show all records;2:Add a new record;-1:Exit\n"
     ]
    },
    {
     "name": "stdin",
     "output_type": "stream",
     "text": [
      "Choose option: 2\n",
      "Purpose: test 1\n",
      "Total: 23\n"
     ]
    },
    {
     "name": "stdout",
     "output_type": "stream",
     "text": [
      "Query executed successfully\n"
     ]
    },
    {
     "name": "stdin",
     "output_type": "stream",
     "text": [
      "Choose option: 2\n",
      "Purpose: test 2\n",
      "Total: 45\n"
     ]
    },
    {
     "name": "stdout",
     "output_type": "stream",
     "text": [
      "Query executed successfully\n"
     ]
    },
    {
     "name": "stdin",
     "output_type": "stream",
     "text": [
      "Choose option: 1\n"
     ]
    },
    {
     "name": "stdout",
     "output_type": "stream",
     "text": [
      "(1, 'test 1', 23.0, '2023-03-30 18:06:54.100396')\n",
      "(2, 'test 2', 45.0, '2023-03-30 18:07:00.672055')\n"
     ]
    },
    {
     "name": "stdin",
     "output_type": "stream",
     "text": [
      "Choose option: -1\n"
     ]
    }
   ],
   "source": [
    "# Завдання 2\n",
    "# Створіть консольний інтерфейс (CLI) на Python для додавання нових записів до бази даних.\n",
    "import datetime\n",
    "\n",
    "print('Options:\\n1:Show all records;2:Add a new record;-1:Exit')\n",
    "while True:\n",
    "    c = input('Choose option:')\n",
    "    if c == '-1':\n",
    "        break\n",
    "    elif c == '1':\n",
    "        select_spendings = \"SELECT * from spendings\"\n",
    "        spendings = execute_read_query(connection, select_spendings)\n",
    "\n",
    "        for spend in spendings:\n",
    "            print(spend)\n",
    "    elif c == '2':\n",
    "        purpose = input('Purpose:')\n",
    "        total = float(input('Total:'))\n",
    "        time = datetime.datetime.now()\n",
    "        insert_spend = \"\"\"\n",
    "            INSERT INTO\n",
    "                spendings (purpose, total, time)\n",
    "            VALUES\n",
    "        \"\"\" + f\"\"\"(\"{purpose}\", {total}, \"{time}\")\"\"\"\n",
    "         \n",
    "        execute_query(connection, insert_spend)"
   ]
  },
  {
   "cell_type": "code",
   "execution_count": 49,
   "id": "982b0d78-b869-4d2d-8b77-89a90759f0f0",
   "metadata": {},
   "outputs": [
    {
     "name": "stdout",
     "output_type": "stream",
     "text": [
      "Query executed successfully\n",
      "Query executed successfully\n",
      "Query executed successfully\n"
     ]
    }
   ],
   "source": [
    "# Завдання 3\n",
    "# Змініть таблицю так, щоби можна було додати не лише витрати, а й прибутки.\n",
    "drop_table = \"DROP TABLE IF EXISTS transactions;\"\n",
    "execute_query(connection, drop_table)\n",
    "rename_table = \"ALTER TABLE spendings RENAME TO transactions;\"\n",
    "execute_query(connection, rename_table)\n",
    "add_column = \"ALTER TABLE transactions ADD COLUMN is_benefit BOOLEAN;\"\n",
    "execute_query(connection, add_column)"
   ]
  },
  {
   "cell_type": "code",
   "execution_count": 50,
   "id": "f664ae9f-c3a6-4fb2-abc2-d9493c21e560",
   "metadata": {},
   "outputs": [
    {
     "name": "stdout",
     "output_type": "stream",
     "text": [
      "(1, 'test 1', 23.0, '2023-03-30 18:06:54.100396', None)\n",
      "(2, 'test 2', 45.0, '2023-03-30 18:07:00.672055', None)\n"
     ]
    }
   ],
   "source": [
    "read_all_data('transactions')"
   ]
  },
  {
   "cell_type": "code",
   "execution_count": 51,
   "id": "0b015bbc-e3da-45ed-86c5-ec3f5218753e",
   "metadata": {},
   "outputs": [
    {
     "name": "stdout",
     "output_type": "stream",
     "text": [
      "Query executed successfully\n",
      "(1, 'test 1', 23.0, '2023-03-30 18:06:54.100396', 0)\n",
      "(2, 'test 2', 45.0, '2023-03-30 18:07:00.672055', 0)\n"
     ]
    }
   ],
   "source": [
    "update_query = \"\"\"UPDATE transactions set is_benefit = false\"\"\"\n",
    "execute_query(connection, update_query)\n",
    "read_all_data('transactions')"
   ]
  },
  {
   "cell_type": "code",
   "execution_count": 72,
   "id": "058cb2db-9fe4-4fa1-b12a-9797a132ae9b",
   "metadata": {
    "tags": []
   },
   "outputs": [
    {
     "name": "stdout",
     "output_type": "stream",
     "text": [
      "Options:\n",
      "1:Show all records;2:Add a new record;3:Month revenue;4: Month losses;-1:Exit\n"
     ]
    },
    {
     "name": "stdin",
     "output_type": "stream",
     "text": [
      "Choose option: 2\n",
      "Purpose: test 3\n",
      "Total: 234\n",
      "Is benefit (Y/N): Y\n"
     ]
    },
    {
     "name": "stdout",
     "output_type": "stream",
     "text": [
      "Query executed successfully\n"
     ]
    },
    {
     "name": "stdin",
     "output_type": "stream",
     "text": [
      "Choose option: 1\n"
     ]
    },
    {
     "name": "stdout",
     "output_type": "stream",
     "text": [
      "(1, 'test 1', 23.0, '2023-03-30 18:06:54.100396', 0)\n",
      "(2, 'test 2', 45.0, '2023-03-30 18:07:00.672055', 0)\n",
      "(3, 'test 3', 234.0, '2023-03-30 18:15:55.238005', 1)\n"
     ]
    },
    {
     "name": "stdin",
     "output_type": "stream",
     "text": [
      "Choose option: 3\n"
     ]
    },
    {
     "name": "stdout",
     "output_type": "stream",
     "text": [
      "Total: 234.0\n"
     ]
    },
    {
     "name": "stdin",
     "output_type": "stream",
     "text": [
      "Choose option: 4\n"
     ]
    },
    {
     "name": "stdout",
     "output_type": "stream",
     "text": [
      "Total: 68.0\n"
     ]
    },
    {
     "name": "stdin",
     "output_type": "stream",
     "text": [
      "Choose option: -1\n"
     ]
    }
   ],
   "source": [
    "# Завдання 4\n",
    "# Створіть агрегатні функції для підрахунку загальної кількості  витрат i прибуткiв за місяць. Забезпечте відповідний інтерфейс користувача.\n",
    "import datetime\n",
    "from dateutil.relativedelta import relativedelta\n",
    "\n",
    "print('Options:\\n1:Show all records;2:Add a new record;3:Month revenue;4: Month losses;-1:Exit')\n",
    "while True:\n",
    "    c = input('Choose option:')\n",
    "    if c == '-1':\n",
    "        break\n",
    "    elif c == '1':\n",
    "        select_spendings = \"SELECT * from transactions\"\n",
    "        spendings = execute_read_query(connection, select_spendings)\n",
    "\n",
    "        for spend in spendings:\n",
    "            print(spend)\n",
    "    elif c == '2':\n",
    "        purpose = input('Purpose:')\n",
    "        total = float(input('Total:'))\n",
    "        time = datetime.datetime.now()\n",
    "        s = input('Is benefit (Y/N):')\n",
    "        is_benefit = True if (s == 'y' or s == 'Y') else False\n",
    "        insert_spend = \"\"\"\n",
    "            INSERT INTO\n",
    "                transactions (purpose, total, time, is_benefit)\n",
    "            VALUES\n",
    "        \"\"\" + f\"\"\"(\"{purpose}\", {total}, \"{time}\", {is_benefit})\"\"\"\n",
    "         \n",
    "        execute_query(connection, insert_spend)\n",
    "    elif c == '3' or c == '4':\n",
    "        currentDateTime = datetime.datetime.now()\n",
    "        month_ago = currentDateTime - relativedelta(months=1)\n",
    "        is_benefit = 1 if c == '3' else 0\n",
    "        total = f\"\"\"SELECT SUM(total) from transactions \n",
    "                            WHERE is_benefit = {is_benefit} AND \n",
    "                            time > '{month_ago}' AND time < '{currentDateTime}';\n",
    "                        \"\"\"\n",
    "        total = execute_read_query(connection, total)\n",
    "        print(\"Total:\", total[0][0])\n",
    "    "
   ]
  },
  {
   "cell_type": "code",
   "execution_count": 75,
   "id": "90d46f0e-925a-46f1-a5e1-cbcdf91222eb",
   "metadata": {},
   "outputs": [
    {
     "name": "stdout",
     "output_type": "stream",
     "text": [
      "Query executed successfully\n"
     ]
    }
   ],
   "source": [
    "# Завдання 5\n",
    "# Create an Exchange Rates To USD db using API Monobank (api.monobank.ua). Do requests via request lib, parse results, write it into db. (3 examples required)\n",
    "# Example:\n",
    "# Table - Exchange Rate To USD:\n",
    "# id (INT PRIMARY KEY) - 1, 2, 3, ...\n",
    "# currency_name (TEXT) - UAH\n",
    "# currency_value (REAL) - 39.5\n",
    "# current_date (DATETIME) - 10/22/2022 7:00 PM\n",
    "create_table = \"\"\"\n",
    "CREATE TABLE IF NOT EXISTS exchange_rate_usd (\n",
    "  id INTEGER PRIMARY KEY AUTOINCREMENT,\n",
    "  currency_name TEXT NOT NULL,\n",
    "  currency_value REAL NOT NULL,\n",
    "  current_date TIMESTAMP NOT NULL\n",
    ");\n",
    "\"\"\"\n",
    "execute_query(connection, create_table)"
   ]
  },
  {
   "cell_type": "code",
   "execution_count": 86,
   "id": "50a67dc6-6a6b-4eb1-b670-03b38a66c9cb",
   "metadata": {},
   "outputs": [
    {
     "data": {
      "text/plain": [
       "datetime.datetime(2023, 3, 30, 18, 49, 8, 929519)"
      ]
     },
     "execution_count": 86,
     "metadata": {},
     "output_type": "execute_result"
    }
   ],
   "source": [
    "datetime.datetime.now()"
   ]
  },
  {
   "cell_type": "code",
   "execution_count": 76,
   "id": "ef04794c-0e73-4e88-a9c9-393fa657042a",
   "metadata": {},
   "outputs": [],
   "source": [
    "read_all_data('exchange_rate_usd')"
   ]
  },
  {
   "cell_type": "code",
   "execution_count": 90,
   "id": "25b40ef4-c33c-49e3-a797-2b020ad75d44",
   "metadata": {},
   "outputs": [
    {
     "data": {
      "text/plain": [
       "Timestamp('2023-03-30 14:30:07+0000', tz='UTC')"
      ]
     },
     "execution_count": 90,
     "metadata": {},
     "output_type": "execute_result"
    }
   ],
   "source": [
    "pd.to_datetime(int('1680186607'), utc=True, unit='s')"
   ]
  },
  {
   "cell_type": "code",
   "execution_count": 93,
   "id": "0fdd4fd0-8780-438b-a469-76e81c3d6daf",
   "metadata": {
    "tags": []
   },
   "outputs": [
    {
     "data": {
      "text/plain": [
       "{'currencyCodeA': 840,\n",
       " 'currencyCodeB': 980,\n",
       " 'date': 1680127274,\n",
       " 'rateBuy': 36.65,\n",
       " 'rateCross': 0,\n",
       " 'rateSell': 37.4406}"
      ]
     },
     "execution_count": 93,
     "metadata": {},
     "output_type": "execute_result"
    }
   ],
   "source": [
    "import requests\n",
    "import pandas as pd\n",
    "url = 'https://api.monobank.ua/bank/currency'\n",
    "response = requests.get(url)\n",
    "data = response.json()\n",
    "currency_codes = {'840': 'USD', '978': 'EUR', '980': 'UAH', '826': 'GBP'}\n",
    "data[0]"
   ]
  },
  {
   "cell_type": "code",
   "execution_count": 112,
   "id": "ef6d377e-218c-4a04-9740-0f1461c9c694",
   "metadata": {},
   "outputs": [
    {
     "name": "stdout",
     "output_type": "stream",
     "text": [
      "[('UAH', 37.4406, Timestamp('2023-03-29 22:01:14+0000', tz='UTC')), ('EUR', 1.08, Timestamp('2023-03-30 14:30:07+0000', tz='UTC'))]\n"
     ]
    }
   ],
   "source": [
    "def get_currency(data):\n",
    "    rate_col = ''\n",
    "    if data['currencyCodeA'] == 840:\n",
    "        currency_name = data['currencyCodeB']\n",
    "        rate_col = 'rateSell'\n",
    "    elif data['currencyCodeB'] == 840:\n",
    "        currency_name = data['currencyCodeA']\n",
    "        rate_col = 'rateBuy'\n",
    "    else:\n",
    "        return\n",
    "    currency_name = currency_codes[str(currency_name)]\n",
    "    currency_value = data[rate_col]\n",
    "    current_date = pd.to_datetime(int(data['date']), utc=True, unit='s')\n",
    "    return currency_name, currency_value, current_date\n",
    "records = []\n",
    "for d in data:\n",
    "    res = get_currency(d)\n",
    "    if res != None:\n",
    "        records.append(res)\n",
    "print(records)   \n",
    "\n",
    "records = [f\"\"\"('{currency_name}', {currency_value}, '{current_date}')\"\"\" for currency_name, currency_value, current_date in records]"
   ]
  },
  {
   "cell_type": "code",
   "execution_count": 113,
   "id": "4f456a55-f682-4f9d-b203-bc4fcb668fe6",
   "metadata": {},
   "outputs": [
    {
     "name": "stdout",
     "output_type": "stream",
     "text": [
      "\n",
      "    INSERT INTO\n",
      "        exchange_rate_usd (currency_name, currency_value, current_date)\n",
      "    VALUES\n",
      "('UAH', 37.4406, '2023-03-29 22:01:14+00:00'),\n",
      "('EUR', 1.08, '2023-03-30 14:30:07+00:00');\n",
      "Query executed successfully\n"
     ]
    }
   ],
   "source": [
    "insert_query = \"\"\"\n",
    "    INSERT INTO\n",
    "        exchange_rate_usd (currency_name, currency_value, current_date)\n",
    "    VALUES\n",
    "\"\"\" + \",\\n\".join(list(records)) + \";\"\n",
    "print(insert_query)\n",
    "execute_query(connection, insert_query)"
   ]
  },
  {
   "cell_type": "code",
   "execution_count": 114,
   "id": "ced9a61e-3cfd-41d9-9e66-85a7bc88e283",
   "metadata": {},
   "outputs": [
    {
     "name": "stdout",
     "output_type": "stream",
     "text": [
      "(1, 'UAH', 37.4406, '2023-03-29 22:01:14+00:00')\n",
      "(2, 'EUR', 1.08, '2023-03-30 14:30:07+00:00')\n"
     ]
    }
   ],
   "source": [
    "read_all_data('exchange_rate_usd')"
   ]
  },
  {
   "cell_type": "code",
   "execution_count": 115,
   "id": "5edf59e9-0d73-4065-8a7b-acb544a70e69",
   "metadata": {},
   "outputs": [],
   "source": [
    "connection.close()"
   ]
  },
  {
   "cell_type": "code",
   "execution_count": null,
   "id": "dd020834-0416-4f92-b8ab-c66fa0e84b7d",
   "metadata": {},
   "outputs": [],
   "source": []
  }
 ],
 "metadata": {
  "kernelspec": {
   "display_name": "Python 3 (ipykernel)",
   "language": "python",
   "name": "python3"
  },
  "language_info": {
   "codemirror_mode": {
    "name": "ipython",
    "version": 3
   },
   "file_extension": ".py",
   "mimetype": "text/x-python",
   "name": "python",
   "nbconvert_exporter": "python",
   "pygments_lexer": "ipython3",
   "version": "3.11.1"
  }
 },
 "nbformat": 4,
 "nbformat_minor": 5
}
