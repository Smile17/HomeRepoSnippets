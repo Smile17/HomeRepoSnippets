{
 "cells": [
  {
   "cell_type": "code",
   "execution_count": 7,
   "id": "3d062a2f-eede-419f-b20a-ecab23c931a6",
   "metadata": {},
   "outputs": [
    {
     "name": "stdout",
     "output_type": "stream",
     "text": [
      "['2', '3', '4', '5']\n"
     ]
    }
   ],
   "source": [
    "\"\"\"\n",
    "Завдання 1\n",
    "Створіть функцію, яка приймає список з елементів типу int, а повертає новий список з рядкових значень вихідного масиву. \n",
    "Додайте анотацію типів для вхідних і вислідних значень функції. \n",
    "\"\"\"\n",
    "from typing import List, Sequence\n",
    "\n",
    "def process_array(arr: Sequence[int]) -> List[str]:\n",
    "    return [str(x) for x in arr]\n",
    "arr = [2, 3, 4, 5]\n",
    "res = process_array(arr)\n",
    "print(res)"
   ]
  },
  {
   "cell_type": "code",
   "execution_count": 31,
   "id": "ebca9211-ede4-4004-9b1c-309a078eaaf1",
   "metadata": {},
   "outputs": [
    {
     "name": "stdout",
     "output_type": "stream",
     "text": [
      "Dir Dir1; Dir Dir2; \n",
      "Dir Dir1; Dir Dir2; File File1\n",
      "Dir Dir1; Dir Dir2; File File1\n",
      "Dir Dir1; Dir Dir2; \n"
     ]
    }
   ],
   "source": [
    "\"\"\"\n",
    "Завдання 2\n",
    "Створіть два класи Directory (тека) і File (файл) з типами (анотацією).\n",
    "Клас Directory має мати такі поля:\n",
    "·        назва (name типу str);\n",
    "·        батьківська тека (root типу Directory);\n",
    "·        список файлів (список типу files, який складається з екземплярів File);\n",
    "·        список підтек (список типу sub_directories, який складається з екземплярів Directory). \n",
    "\n",
    "Клас Directory має мати такі методи:\n",
    "·        додавання теки до списку підтек (add_sub_directory, який приймає екземпляр Directory та присвоює поле root для приймального екземпляра);\n",
    "·        видалення теки зі списку підтек (remove_sub_directory, який приймає екземпляр Directory та обнуляє поле root. Метод також видаляє теку зі списку sub_directories);\n",
    "·        додавання файлу в теку (add_file, який приймає екземпляр File і присвоює йому поле directory – див. клас File нижче);\n",
    "·        видалення файлу з теки (remove_file, який приймає екземпляр File та обнуляє у нього поле directory. Метод видаляє файл зі списку files). \n",
    "\n",
    "Клас File має мати такі поля:\n",
    "·        назва (name типу str);\n",
    "·        тека (Directory типу Directory). \n",
    "\"\"\"\n",
    "from typing import Any, Dict, List, Optional, Sequence, Tuple, Union\n",
    "from typing import overload\n",
    "\n",
    "class Directory:\n",
    "    pass\n",
    "\n",
    "class File:\n",
    "    def __init__(self, name: str, parent: Directory = None) -> None:\n",
    "        self.name = name\n",
    "        self.parent = parent\n",
    "        \n",
    "    def __repr__(self) -> str:\n",
    "        return f\"File {self.name}\"\n",
    "\n",
    "\n",
    "class Directory:\n",
    "\n",
    "    def __init__(self, name: str, root: Directory = None, files: List[File] = None, sub_directory: List[Directory] = None) -> None:\n",
    "        self.name = name\n",
    "        self.root = root\n",
    "        self.files = files\n",
    "        self.sub_directories = sub_directory\n",
    "        if self.root == None:\n",
    "            self.root = self\n",
    "        if self.files == None:\n",
    "            self.files = []\n",
    "        if self.sub_directories == None:\n",
    "            self.sub_directories = []\n",
    "\n",
    "    def add_sub_directory(self, sub_directory: Directory) -> None:\n",
    "        self.sub_directories.append(sub_directory)\n",
    "        \n",
    "    def remove_sub_directory(self, sub_directory: Directory) -> None:\n",
    "        if sub_directory in self.sub_directories:\n",
    "            self.sub_directories.remove(sub_directory)\n",
    "            \n",
    "    def add_file(self, file: File) -> None:\n",
    "        self.files.append(file)\n",
    "        file.parent = self\n",
    "        \n",
    "    def remove_file(self, file: File) -> None:\n",
    "        if file in self.files:\n",
    "            self.files.remove(file)\n",
    "            \n",
    "    def __repr__(self) -> str:\n",
    "        return f\"Dir {self.name}; \" + \" \".join([str(x) for x in self.sub_directories]) + \" \".join([str(x) for x in self.files]) \n",
    "    \n",
    "        \n",
    "main = Directory('Dir1')\n",
    "dir = Directory('Dir2')\n",
    "main.add_sub_directory(dir)\n",
    "print(main)\n",
    "file = File('File1')\n",
    "dir.add_file(file)\n",
    "print(main)\n",
    "main.remove_file(file)\n",
    "print(main)\n",
    "dir.remove_file(file)\n",
    "print(main)"
   ]
  },
  {
   "cell_type": "code",
   "execution_count": 82,
   "id": "2367ce79-7e7f-48f2-af27-88bbe5b94c71",
   "metadata": {},
   "outputs": [
    {
     "name": "stdout",
     "output_type": "stream",
     "text": [
      "Connection to SQLite DB successful\n"
     ]
    }
   ],
   "source": [
    "\"\"\"\n",
    "Завдання 3\n",
    "Використовуючи модуль sqlite3 та модуль smtplib, реалізуйте реальне додавання користувачів до бази. Мають бути реалізовані такі функції та класи:\n",
    "·        клас користувача, що містить у собі такі методи: get_full_name (ПІБ з поділом через пробіл: «Петров Ігор Сергійович»), get_short_name (формату ПІБ: «Петров І. С.»), \n",
    "        get_age (повертає вік користувача, використовуючи поле birthday типу datetime.date); метод __str__ (повертає ПІБ та дату народження);\n",
    "·        функція реєстрації нового користувача (приймаємо екземпляр нового користувача та відправляємо email на пошту користувача з листом подяки).\n",
    "·        функція відправлення email з листом подяки.\n",
    "·        функція пошуку користувачів у таблиці users за іменем, прізвищем і поштою.\n",
    "\n",
    "Протестувати цей функціонал, використовуючи заглушки у місцях надсилання пошти. Під час штатного запуску програми вона має відправляти повідомлення на вашу \n",
    "реальну поштову скриньку (необхідно налаштувати SMTP, використовуючи доступи від провайдера вашого email-сервісу).\n",
    "\n",
    "Приклад налаштування SMTP для сервісу Gmail: https://support.google.com/mail/answer/7126229?hl=ru\n",
    "\"\"\"\n",
    "\n",
    "import sqlite3\n",
    "from sqlite3 import Error\n",
    "from datetime import date\n",
    "import smtplib\n",
    "from email.mime.text import MIMEText\n",
    "from email.mime.multipart import MIMEMultipart\n",
    "\n",
    "class User:\n",
    "    def __init__(self, first_name: str, second_name: str, middle_name: str, email: str, birthday: date) -> None:\n",
    "        self.first_name = first_name\n",
    "        self.second_name = second_name\n",
    "        self.middle_name = middle_name\n",
    "        self.birthday = birthday\n",
    "        self.email = email\n",
    "        \n",
    "    def get_full_name(self) -> str:\n",
    "        return \" \".join([self.second_name, self.first_name, self.middle_name])\n",
    "    \n",
    "    def get_short_name(self) -> str:\n",
    "        return \" \".join([self.second_name, self.first_name[0] + \".\", self.middle_name[0] + \".\"])\n",
    "    \n",
    "    def get_age(self) -> int:\n",
    "        today = date.today()\n",
    "        age = today.year - birthdate.year - ((today.month, today.day) < (birthdate.month, birthdate.day))\n",
    "        return age\n",
    "    \n",
    "    def __str__(self) -> str:\n",
    "        return f\"{self.get_full_name()}, {self.birthday}\"\n",
    "    \n",
    "    def send_email(self) -> None:\n",
    "        '''функція відправлення email з листом подяки.'''\n",
    "        email = MIMEMultipart()\n",
    "        email['Subject'] = 'Thank you for registration'\n",
    "        email['From'] = 'smilk1378@gmail.com'\n",
    "        email['To'] = 'mtvkatya@gmail.com' # self.email\n",
    "        body = 'Thank you for registration ' + self.get_full_name()\n",
    "        email.attach(MIMEText(body, 'plain'))\n",
    "\n",
    "        # Set up the SMTP server\n",
    "        smtp_server = 'smtp.gmail.com'\n",
    "        smtp_port = 587\n",
    "        smtp_username = 'smilk1378@gmail.com'\n",
    "        smtp_password = 'ozweuwpvlxvkfqac'\n",
    "\n",
    "        # Connect to the SMTP server and send the email\n",
    "        with smtplib.SMTP(smtp_server, smtp_port) as server:\n",
    "            server.starttls()\n",
    "            server.login(smtp_username, smtp_password)\n",
    "            server.sendmail(smtp_username, email['To'], email.as_string())\n",
    "        \n",
    "    \n",
    "def create_connection(path):\n",
    "    connection = None\n",
    "    try:\n",
    "        connection = sqlite3.connect(path)\n",
    "        print(\"Connection to SQLite DB successful\")\n",
    "    except Error as e:\n",
    "        print(f\"The error '{e}' occurred\")\n",
    "\n",
    "    return connection\n",
    "def execute_query(connection, query):\n",
    "    cursor = connection.cursor()\n",
    "    try:\n",
    "        cursor.execute(query)\n",
    "        connection.commit()\n",
    "        print(\"Query executed successfully\")\n",
    "    except Error as e:\n",
    "        print(f\"The error '{e}' occurred\")\n",
    "def execute_read_query(connection, query):\n",
    "    cursor = connection.cursor()\n",
    "    result = None\n",
    "    try:\n",
    "        cursor.execute(query)\n",
    "        result = cursor.fetchall()\n",
    "        return result\n",
    "    except Error as e:\n",
    "        print(f\"The error '{e}' occurred\")\n",
    "\n",
    "def read_all_data(table_name):\n",
    "    select_records = \"SELECT * from \" + table_name\n",
    "    records = execute_read_query(connection, select_records)\n",
    "\n",
    "    for rec in records:\n",
    "        print(rec)\n",
    "\n",
    "connection = create_connection(\"./data/sqliteDB\")"
   ]
  },
  {
   "cell_type": "code",
   "execution_count": 57,
   "id": "63ebe237-7c62-4dd4-8292-3e563dd7bbc9",
   "metadata": {},
   "outputs": [
    {
     "name": "stdout",
     "output_type": "stream",
     "text": [
      "Query executed successfully\n",
      "Query executed successfully\n"
     ]
    }
   ],
   "source": [
    "drop_table = \"DROP TABLE IF EXISTS users;\"\n",
    "execute_query(connection, drop_table)\n",
    "create_table = \"\"\"\n",
    "CREATE TABLE IF NOT EXISTS users (\n",
    "  id INTEGER PRIMARY KEY AUTOINCREMENT,\n",
    "  first_name TEXT NOT NULL,\n",
    "  second_name TEXT NOT NULL,\n",
    "  middle_name TEXT NOT NULL,\n",
    "  email TEXT NOT NULL,\n",
    "  birthday TIMESTAMP NOT NULL\n",
    ");\n",
    "\"\"\"\n",
    "execute_query(connection, create_table)"
   ]
  },
  {
   "cell_type": "code",
   "execution_count": 88,
   "id": "03ff2ff2-1c12-40e4-a775-556cae29c5d6",
   "metadata": {},
   "outputs": [
    {
     "name": "stdout",
     "output_type": "stream",
     "text": [
      "\n",
      "    INSERT INTO\n",
      "        users (first_name, second_name, middle_name, email, birthday)\n",
      "    VALUES\n",
      "('Златослава', 'Черінько', 'Семен', 'avramchukspas@example.org', '1989-12-11'),\n",
      "('Максим', 'Вдовиченко', 'Трохим', 'marianaiakymenko@example.net', '1994-12-10'),\n",
      "('Назар', 'Данько', 'Дмитро', 'adaaleksiichuk@example.com', '2001-12-07'),\n",
      "('Віолетта', 'Кибкало', 'Руслан', 'demianskyrda@example.com', '2001-12-17'),\n",
      "('Альбіна', 'Шахрай', 'пан', 'omeliannehoda@example.org', '2002-02-08');\n",
      "Query executed successfully\n"
     ]
    }
   ],
   "source": [
    "from faker import Faker\n",
    "fake = Faker(\"uk_UA\")\n",
    "from typing import Tuple\n",
    "    \n",
    "def user_gen(num: int) -> str:\n",
    "    step = 0\n",
    "    while True:\n",
    "        name = fake.first_name()\n",
    "        second_name = fake.last_name()\n",
    "        middle_name = fake.name_male().split(' ')[0]\n",
    "\n",
    "        # Generate a random birthday between 18 and 65 years ago\n",
    "        today = fake.date_of_birth(minimum_age=18, maximum_age=65)\n",
    "        birthday = today.strftime('%Y-%m-%d')\n",
    "        email = fake.email()\n",
    "\n",
    "        yield f\"('{name}', '{second_name}', '{middle_name}', '{email}', '{birthday}')\"\n",
    "        step += 1\n",
    "        if step >= num:\n",
    "            break\n",
    "            \n",
    "def user_gen_data(num: int) -> Tuple[str, str, str, str, str]:\n",
    "    step = 0\n",
    "    while True:\n",
    "        name = fake.first_name()\n",
    "        second_name = fake.last_name()\n",
    "        middle_name = fake.name_male().split(' ')[0]\n",
    "\n",
    "        # Generate a random birthday between 18 and 65 years ago\n",
    "        today = fake.date_of_birth(minimum_age=18, maximum_age=65)\n",
    "        birthday = today.strftime('%Y-%m-%d')\n",
    "        email = fake.email()\n",
    "\n",
    "        yield (name, second_name, middle_name, email, birthday)\n",
    "        step += 1\n",
    "        if step >= num:\n",
    "            break\n",
    "            \n",
    "\n",
    "insert_users = \"\"\"\n",
    "    INSERT INTO\n",
    "        users (first_name, second_name, middle_name, email, birthday)\n",
    "    VALUES\n",
    "\"\"\" + \",\\n\".join(list(user_gen(5))) + \";\"\n",
    "\n",
    "#print(insert_users)\n",
    "execute_query(connection, insert_users)"
   ]
  },
  {
   "cell_type": "code",
   "execution_count": 74,
   "id": "f594ceb3-85aa-4bae-95e4-0e5820c78109",
   "metadata": {},
   "outputs": [
    {
     "name": "stdout",
     "output_type": "stream",
     "text": [
      "(1, 'Віра', 'Кибкало', 'Георгій', 'liashkoboryslav@example.org', '1994-08-01')\n",
      "(2, 'Богодар', 'Асаула', 'Мартин', 'nliashko@example.net', '1957-09-06')\n",
      "(3, 'Августин', 'Конопля', 'Богодар', 'cherednykalla@example.org', '1978-01-31')\n",
      "(4, 'Віктор', 'Чуприна', 'Данило', 'havrylenkohennadii@example.org', '1965-07-13')\n",
      "(5, 'Дмитро', 'Закусило', 'Франц', 'iaroslavtaran@example.org', '1985-02-15')\n",
      "(6, 'Амалія', 'Даниленко', 'Орхип', 'huznazar@example.net', '1988-10-29')\n",
      "(7, 'Юстина', 'Колісниченко', 'Варфоломій', 'bizhakevych@example.net', '1998-11-12')\n",
      "(8, 'Болеслав', 'Гавришкевич', 'Венедикт', 'haidenkoliza@example.net', '1996-06-29')\n",
      "(9, 'Нестор', 'Баран', 'Віктор', 'shchorsopanas@example.org', '1984-08-02')\n",
      "(10, 'Панас', 'Чайка', 'Устим', 'amaliia38@example.org', '1959-02-05')\n"
     ]
    }
   ],
   "source": [
    "read_all_data('users')"
   ]
  },
  {
   "cell_type": "code",
   "execution_count": 89,
   "id": "60520d09-86e3-47a9-9640-da579c55df21",
   "metadata": {},
   "outputs": [],
   "source": [
    "def register(user: User) -> None:\n",
    "    '''функція реєстрації нового користувача (приймаємо екземпляр нового користувача та відправляємо email на пошту користувача з листом подяки).'''\n",
    "    insert_users = \"\"\"\n",
    "        INSERT INTO\n",
    "            users (first_name, second_name, middle_name, email, birthday)\n",
    "        VALUES\n",
    "    \"\"\" + f\"('{user.first_name}','{user.second_name}','{user.middle_name}','{user.email}','{user.birthday}');\"\n",
    "    execute_query(connection, insert_users)\n",
    "    user.send_email()"
   ]
  },
  {
   "cell_type": "code",
   "execution_count": 90,
   "id": "54be6d8a-6c2b-444d-bfb7-2aad5678c9ad",
   "metadata": {},
   "outputs": [
    {
     "name": "stdout",
     "output_type": "stream",
     "text": [
      "Овчаренко Амвросій Валентин, 1997-01-29\n",
      "Query executed successfully\n"
     ]
    }
   ],
   "source": [
    "user_data = list(user_gen_data(1))[0]\n",
    "user = User(*user_data)\n",
    "print(user)\n",
    "register(user)"
   ]
  },
  {
   "cell_type": "code",
   "execution_count": 93,
   "id": "0fe621ef-6ed0-4af0-89b4-6e2d2e69103d",
   "metadata": {},
   "outputs": [
    {
     "name": "stdout",
     "output_type": "stream",
     "text": [
      "SELECT * from users WHERE second_name == 'Овчаренко';\n",
      "(16, 'Амвросій', 'Овчаренко', 'Валентин', 'gvdovenko@example.org', '1997-01-29')\n"
     ]
    }
   ],
   "source": [
    "def select_user(by_col: str, value: str) -> None:\n",
    "    '''функція пошуку користувачів у таблиці users за іменем, прізвищем і поштою.'''\n",
    "    select_records = f\"SELECT * from users WHERE {by_col} == '{value}';\"\n",
    "    print(select_records)\n",
    "    records = execute_read_query(connection, select_records)\n",
    "\n",
    "    for rec in records:\n",
    "        print(rec)\n",
    "select_user('second_name', 'Овчаренко')"
   ]
  },
  {
   "cell_type": "code",
   "execution_count": null,
   "id": "14b892af-7e09-4904-9925-b94515f60c46",
   "metadata": {},
   "outputs": [],
   "source": []
  }
 ],
 "metadata": {
  "kernelspec": {
   "display_name": "Python 3 (ipykernel)",
   "language": "python",
   "name": "python3"
  },
  "language_info": {
   "codemirror_mode": {
    "name": "ipython",
    "version": 3
   },
   "file_extension": ".py",
   "mimetype": "text/x-python",
   "name": "python",
   "nbconvert_exporter": "python",
   "pygments_lexer": "ipython3",
   "version": "3.11.1"
  }
 },
 "nbformat": 4,
 "nbformat_minor": 5
}
