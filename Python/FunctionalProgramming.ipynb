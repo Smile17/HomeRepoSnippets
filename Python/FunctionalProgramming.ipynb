{
 "cells": [
  {
   "cell_type": "code",
   "execution_count": 25,
   "id": "2a816dbb-b861-4cfa-9e0e-c33e5a8dd253",
   "metadata": {},
   "outputs": [
    {
     "name": "stdout",
     "output_type": "stream",
     "text": [
      "[9, 49, 81, 1]\n"
     ]
    }
   ],
   "source": [
    "# Завдання 1\n",
    "# Ще раз розберіть усі приклади до уроку, повторіть теорію та ознайомтеся з документацією щодо розглянутих модулів.\n",
    "# Завдання 2\n",
    "# Створіть список цілих чисел. Отримайте список квадратів непарних чисел із цього списку.\n",
    "arr = [3, 4, 7, 9, -1, 2]\n",
    "res = filter(lambda x: x % 2 != 0, arr)\n",
    "res = map(lambda x: x**2, res)\n",
    "print(list(res))"
   ]
  },
  {
   "cell_type": "code",
   "execution_count": 26,
   "id": "c82f2a66",
   "metadata": {},
   "outputs": [
    {
     "name": "stdout",
     "output_type": "stream",
     "text": [
      "[0, 2, 8, 34]\n"
     ]
    }
   ],
   "source": [
    "# Завдання 3\n",
    "# Створіть функцію-генератор чисел Фібоначчі. Застосуйте до неї декоратор, який залишатиме в послідовності лише парні числа.\n",
    "def even_filter(func):\n",
    "    def wrapper(*args, **kwargs):\n",
    "        for number in func(*args, **kwargs):\n",
    "            if number % 2 == 0:\n",
    "                yield number\n",
    "    return wrapper\n",
    "\n",
    "@even_filter\n",
    "def fibonacci(n):\n",
    "    a, b = 0, 1\n",
    "    for i in range(n):\n",
    "        yield a\n",
    "        a, b = b, a + b\n",
    "        \n",
    "fib = fibonacci(10)\n",
    "print(list(fib))"
   ]
  },
  {
   "cell_type": "code",
   "execution_count": 2,
   "id": "0c132ee8-6872-4513-8805-7733f29c27d5",
   "metadata": {},
   "outputs": [
    {
     "ename": "TypeError",
     "evalue": "unsupported operand type(s) for %: 'generator' and 'int'",
     "output_type": "error",
     "traceback": [
      "\u001b[1;31m---------------------------------------------------------------------------\u001b[0m",
      "\u001b[1;31mTypeError\u001b[0m                                 Traceback (most recent call last)",
      "Cell \u001b[1;32mIn[2], line 18\u001b[0m\n\u001b[0;32m     15\u001b[0m         a, b \u001b[38;5;241m=\u001b[39m b, a \u001b[38;5;241m+\u001b[39m b\n\u001b[0;32m     17\u001b[0m fib \u001b[38;5;241m=\u001b[39m fibonacci(\u001b[38;5;241m10\u001b[39m)\n\u001b[1;32m---> 18\u001b[0m \u001b[38;5;28mprint\u001b[39m(\u001b[38;5;28;43mlist\u001b[39;49m\u001b[43m(\u001b[49m\u001b[43mfib\u001b[49m\u001b[43m)\u001b[49m)\n",
      "Cell \u001b[1;32mIn[2], line 6\u001b[0m, in \u001b[0;36meven_filter.<locals>.wrapper\u001b[1;34m(*args, **kwargs)\u001b[0m\n\u001b[0;32m      4\u001b[0m \u001b[38;5;28;01mdef\u001b[39;00m \u001b[38;5;21mwrapper\u001b[39m(\u001b[38;5;241m*\u001b[39margs, \u001b[38;5;241m*\u001b[39m\u001b[38;5;241m*\u001b[39mkwargs):\n\u001b[0;32m      5\u001b[0m     number \u001b[38;5;241m=\u001b[39m func(\u001b[38;5;241m*\u001b[39margs, \u001b[38;5;241m*\u001b[39m\u001b[38;5;241m*\u001b[39mkwargs)\n\u001b[1;32m----> 6\u001b[0m     \u001b[38;5;28;01mif\u001b[39;00m \u001b[43mnumber\u001b[49m\u001b[43m \u001b[49m\u001b[38;5;241;43m%\u001b[39;49m\u001b[43m \u001b[49m\u001b[38;5;241;43m2\u001b[39;49m \u001b[38;5;241m==\u001b[39m \u001b[38;5;241m0\u001b[39m:\n\u001b[0;32m      7\u001b[0m         \u001b[38;5;28;01myield\u001b[39;00m number\n",
      "\u001b[1;31mTypeError\u001b[0m: unsupported operand type(s) for %: 'generator' and 'int'"
     ]
    }
   ],
   "source": [
    "# Завдання 3\n",
    "# Створіть функцію-генератор чисел Фібоначчі. Застосуйте до неї декоратор, який залишатиме в послідовності лише парні числа.\n",
    "def even_filter(func):\n",
    "    def wrapper(*args, **kwargs):\n",
    "        number = func(*args, **kwargs)\n",
    "        if number % 2 == 0:\n",
    "            yield number\n",
    "    return wrapper\n",
    "\n",
    "@even_filter\n",
    "def fibonacci(n):\n",
    "    a, b = 0, 1\n",
    "    for i in range(n):\n",
    "        yield a\n",
    "        a, b = b, a + b\n",
    "        \n",
    "fib = fibonacci(10)\n",
    "print(list(fib))"
   ]
  },
  {
   "cell_type": "code",
   "execution_count": 27,
   "id": "f720044d-9db9-4f8c-80c6-e11db4c598b3",
   "metadata": {},
   "outputs": [
    {
     "name": "stdout",
     "output_type": "stream",
     "text": [
      "10\n",
      "10\n",
      "0 3 6 9 12 "
     ]
    }
   ],
   "source": [
    "# Завдання 4\n",
    "# Створіть звичайну функцію множення двох чисел. \n",
    "# Створіть каррувану функцію множення двох чисел. Частково застосуйте її до одного аргументу, до двох аргументiв\n",
    "mult = lambda x, y: x*y\n",
    "mult_carr = lambda x: lambda y: x * y\n",
    "print(mult(2, 5))\n",
    "print(mult_carr(2)(5))\n",
    "mult3 = mult_carr(3)\n",
    "for i in range(5):\n",
    "    print(mult3(i), end = ' ')"
   ]
  },
  {
   "cell_type": "code",
   "execution_count": 30,
   "id": "ecbd5198",
   "metadata": {},
   "outputs": [
    {
     "name": "stdout",
     "output_type": "stream",
     "text": [
      "Done! long_loop in 0.7471767000024556 secs\n"
     ]
    }
   ],
   "source": [
    "# Напишіть декоратор, який буде для переданої функції заміряти час виконання.\n",
    "# Напишіть програму яка буде виводити 25 перших чисел Фібоначі, використовуючи\n",
    "# для цього три наведені в тексті заняття функції - без кеша, з кешем довільної\n",
    "# довжини, з кешем з модулю functools з максимальною кількістю 10 елементів.\n",
    "# За допомогою написаного Вами декоратора заміряйте і порівняйте швидкість \n",
    "# роботи цих трьох варіантів.\n",
    "\n",
    "import functools\n",
    "import time\n",
    "from typing import Callable, Any\n",
    "\n",
    "\n",
    "def debug(func):\n",
    "    \"\"\"Друкує аргументи функції, і результат іі виконання. Повертає результат роботи функції.\"\"\"\n",
    "    @functools.wraps(func)\n",
    "    def wrapper(*args, **kwargs):\n",
    "        args_repr = [repr(a) for a in args]\n",
    "        kwargs_repr = [f\"{k}={v!r}\" for k, v in kwargs.items()]\n",
    "        signature = \", \".join(args_repr + kwargs_repr)\n",
    "        print(f\"Calling {func.__name__}({signature})\")\n",
    "        value = func(*args, **kwargs)\n",
    "        print(f\"{func.__name__!r} returned {value!r}\")\n",
    "        return value\n",
    "    return wrapper\n",
    "\n",
    "def timer(func: Callable) -> Any:\n",
    "    \"\"\"Print the runtime of the decorated function.\"\"\"\n",
    "    @functools.wraps(func)\n",
    "    def wrapper_timer(*args, **kwargs):\n",
    "        start_time = time.perf_counter()\n",
    "        value = func(*args, **kwargs)\n",
    "        end_time = time.perf_counter()\n",
    "        runtime = end_time - start_time\n",
    "        print(f\"Done! {func.__name__} in {runtime} secs\")\n",
    "        return value\n",
    "\n",
    "    return wrapper_timer\n",
    "\n",
    "\n",
    "\n",
    "@timer\n",
    "def long_loop(num_times):\n",
    "    for _ in range(num_times):\n",
    "        sum([i**3 for i in range(1000000)])\n",
    "        \n",
    "long_loop(5)"
   ]
  },
  {
   "cell_type": "code",
   "execution_count": 33,
   "id": "e4357eba",
   "metadata": {},
   "outputs": [
    {
     "name": "stdout",
     "output_type": "stream",
     "text": [
      "Calling test_fibonacci(25, <function fibonacci_simple at 0x0000026F49AD7D80>)\n",
      "0 1 1 2 3 5 8 13 21 34 55 89 144 233 377 610 987 1597 2584 4181 6765 10946 17711 28657 46368 75025 \n",
      "Done! test_fibonacci in 0.00010409999958937988 secs\n",
      "'test_fibonacci' returned None\n",
      "Calling test_fibonacci(25, <function fibonacci_cached at 0x0000026F495A2520>)\n",
      "0 1 1 2 3 5 8 13 21 34 55 89 144 233 377 610 987 1597 2584 4181 6765 10946 17711 28657 46368 75025 \n",
      "Done! test_fibonacci in 0.00013179999950807542 secs\n",
      "'test_fibonacci' returned None\n",
      "Calling test_fibonacci(25, <functools._lru_cache_wrapper object at 0x0000026F49BAC510>)\n",
      "0 1 1 2 3 5 8 13 21 34 55 89 144 233 377 610 987 1597 2584 4181 6765 10946 17711 28657 46368 75025 \n",
      "Done! test_fibonacci in 8.24999988253694e-05 secs\n",
      "'test_fibonacci' returned None\n"
     ]
    }
   ],
   "source": [
    " import functools\n",
    "\n",
    "def cache(func):\n",
    "    \"\"\"Keep a cache of previous function calls\"\"\"\n",
    "    @functools.wraps(func)\n",
    "    def wrapper(*args, **kwargs):\n",
    "        cache_key = args + tuple(kwargs.items())\n",
    "        if cache_key not in wrapper.cache:\n",
    "            wrapper.cache[cache_key] = func(*args, **kwargs)\n",
    "        return wrapper.cache[cache_key]\n",
    "    wrapper.cache = dict()\n",
    "    return wrapper\n",
    "\n",
    "def fibonacci_simple(num):\n",
    "    if num < 2:\n",
    "        return num\n",
    "    return fibonacci(num - 1) + fibonacci(num - 2)\n",
    "\n",
    "\n",
    "@cache\n",
    "def fibonacci_cached(num):\n",
    "    return fibonacci_simple(num)\n",
    "\n",
    "@functools.lru_cache(maxsize=10)\n",
    "def fibonacci(num):\n",
    "    return fibonacci_simple(num)\n",
    "\n",
    "@debug\n",
    "@timer\n",
    "def test_fibonacci(max_num, func):\n",
    "    for i in range(max_num + 1):\n",
    "        print(func(i), end = ' ')\n",
    "    print()\n",
    "\n",
    "test_fibonacci(25, fibonacci_simple)\n",
    "test_fibonacci(25, fibonacci_cached)\n",
    "test_fibonacci(25, fibonacci)"
   ]
  }
 ],
 "metadata": {
  "kernelspec": {
   "display_name": "Python 3 (ipykernel)",
   "language": "python",
   "name": "python3"
  },
  "language_info": {
   "codemirror_mode": {
    "name": "ipython",
    "version": 3
   },
   "file_extension": ".py",
   "mimetype": "text/x-python",
   "name": "python",
   "nbconvert_exporter": "python",
   "pygments_lexer": "ipython3",
   "version": "3.11.1"
  }
 },
 "nbformat": 4,
 "nbformat_minor": 5
}
