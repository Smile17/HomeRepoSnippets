{
 "cells": [
  {
   "cell_type": "code",
   "execution_count": 5,
   "id": "c381cdc1-4283-4b6f-a9b3-f8a2f8ddf177",
   "metadata": {},
   "outputs": [
    {
     "name": "stdout",
     "output_type": "stream",
     "text": [
      "{'firstName': 'Stepan', 'lastName': 'Bandera', 'hobbies': ['sport', 'music', 'politics'], 'year of birth': 1909, 'children': [{'firstName': 'Natalia', 'year of birth': 1941}, {'firstName': 'Andriy', 'year of birth': 1946}, {'firstName': 'Lesya', 'year of birth': 1947}]}\n"
     ]
    }
   ],
   "source": [
    "# Завдання 1\n",
    "#Створіть прості словники та конвертуйте їх у JSON. Збережіть JSON у файлі та спробуйте завантажити дані з файлу.\n",
    "data = {\n",
    "    \"firstName\": \"Stepan\",\n",
    "    \"lastName\": \"Bandera\",\n",
    "    \"hobbies\": [\"sport\", \"music\", \"politics\"],\n",
    "    \"year of birth\": 1909,\n",
    "    \"children\": [\n",
    "        {\n",
    "            \"firstName\": \"Natalia\",\n",
    "            \"year of birth\": 1941\n",
    "        },\n",
    "        {\n",
    "            \"firstName\": \"Andriy\",\n",
    "            \"year of birth\": 1946\n",
    "        },\n",
    "        {\n",
    "            \"firstName\": \"Lesya\",\n",
    "            \"year of birth\": 1947\n",
    "        }\n",
    "    ]\n",
    "}\n",
    "import json\n",
    "with open('data\\person.json', 'w') as jsonfile:\n",
    "    json.dump(data, jsonfile)\n",
    "with open(\"data\\person.json\") as jsonfile:\n",
    "    data_res = jsonfile.read()\n",
    "    data_res = json.loads(data_res)\n",
    "print(data_res)"
   ]
  },
  {
   "cell_type": "code",
   "execution_count": 47,
   "id": "8e83e426-3256-4068-b755-590abfece581",
   "metadata": {},
   "outputs": [
    {
     "name": "stdout",
     "output_type": "stream",
     "text": [
      "{http://schemas.microsoft.com/office/outlook/2010/06/socialprovider.xsd}friends\n",
      "<Element '{http://schemas.microsoft.com/office/outlook/2010/06/socialprovider.xsd}person' at 0x00000248A4CFEB10>\n",
      "{http://schemas.microsoft.com/office/outlook/2010/06/socialprovider.xsd}userID 4667647\n",
      "{http://schemas.microsoft.com/office/outlook/2010/06/socialprovider.xsd}firstName Melissa\n",
      "{http://schemas.microsoft.com/office/outlook/2010/06/socialprovider.xsd}lastName MacBeth\n",
      "{http://schemas.microsoft.com/office/outlook/2010/06/socialprovider.xsd}nickname None\n",
      "{http://schemas.microsoft.com/office/outlook/2010/06/socialprovider.xsd}fileAs MacBeth, Melissa (Contoso Ltd.)\n",
      "{http://schemas.microsoft.com/office/outlook/2010/06/socialprovider.xsd}company Contoso Ltd.\n",
      "{http://schemas.microsoft.com/office/outlook/2010/06/socialprovider.xsd}title Product Manager\n",
      "{http://schemas.microsoft.com/office/outlook/2010/06/socialprovider.xsd}anniversary 2005-05-17\n",
      "{http://schemas.microsoft.com/office/outlook/2010/06/socialprovider.xsd}birthday 1979-08-09\n",
      "{http://schemas.microsoft.com/office/outlook/2010/06/socialprovider.xsd}emailAddress melissa@contoso.com\n",
      "{http://schemas.microsoft.com/office/outlook/2010/06/socialprovider.xsd}emailAddress2 melissa@fabrikam.com\n",
      "{http://schemas.microsoft.com/office/outlook/2010/06/socialprovider.xsd}emailAddress3 melissa@adventureworks.com\n",
      "{http://schemas.microsoft.com/office/outlook/2010/06/socialprovider.xsd}webProfilePage https://contoso.com/melissa\n",
      "{http://schemas.microsoft.com/office/outlook/2010/06/socialprovider.xsd}phone 800-555-1212\n",
      "{http://schemas.microsoft.com/office/outlook/2010/06/socialprovider.xsd}cell 888-555-1212\n",
      "{http://schemas.microsoft.com/office/outlook/2010/06/socialprovider.xsd}workPhone 425-555-1212\n",
      "{http://schemas.microsoft.com/office/outlook/2010/06/socialprovider.xsd}creationTime 2010-01-08T08:30:20-08:00\n",
      "{http://schemas.microsoft.com/office/outlook/2010/06/socialprovider.xsd}lastModificationTime 2010-01-08T11:40:14-08:00\n",
      "{http://schemas.microsoft.com/office/outlook/2010/06/socialprovider.xsd}expirationTime 2010-01-09T11:40:14-08:00\n",
      "{http://schemas.microsoft.com/office/outlook/2010/06/socialprovider.xsd}gender female\n",
      "{http://schemas.microsoft.com/office/outlook/2010/06/socialprovider.xsd}index 0\n",
      "<Element '{http://schemas.microsoft.com/office/outlook/2010/06/socialprovider.xsd}person' at 0x00000248A4750310>\n",
      "{http://schemas.microsoft.com/office/outlook/2010/06/socialprovider.xsd}userID 5015012\n",
      "{http://schemas.microsoft.com/office/outlook/2010/06/socialprovider.xsd}firstName Michael\n",
      "{http://schemas.microsoft.com/office/outlook/2010/06/socialprovider.xsd}lastName Affronti\n",
      "{http://schemas.microsoft.com/office/outlook/2010/06/socialprovider.xsd}nickname Mr. Social\n",
      "{http://schemas.microsoft.com/office/outlook/2010/06/socialprovider.xsd}fileAs Affronti, Michael (Contoso Ltd.)\n",
      "{http://schemas.microsoft.com/office/outlook/2010/06/socialprovider.xsd}company Contoso Ltd.\n",
      "{http://schemas.microsoft.com/office/outlook/2010/06/socialprovider.xsd}title Sales Director\n",
      "{http://schemas.microsoft.com/office/outlook/2010/06/socialprovider.xsd}anniversary 2009-06-21\n",
      "{http://schemas.microsoft.com/office/outlook/2010/06/socialprovider.xsd}birthday 1980-09-10\n",
      "{http://schemas.microsoft.com/office/outlook/2010/06/socialprovider.xsd}emailAddress michael@contoso.com\n",
      "{http://schemas.microsoft.com/office/outlook/2010/06/socialprovider.xsd}emailAddress2 michael@fabrikam.com\n",
      "{http://schemas.microsoft.com/office/outlook/2010/06/socialprovider.xsd}emailAddress3 michael@adventureworks.com\n",
      "{http://schemas.microsoft.com/office/outlook/2010/06/socialprovider.xsd}webProfilePage https://contoso.com/michael\n",
      "{http://schemas.microsoft.com/office/outlook/2010/06/socialprovider.xsd}phone 800-555-1212\n",
      "{http://schemas.microsoft.com/office/outlook/2010/06/socialprovider.xsd}cell 888-555-1212\n",
      "{http://schemas.microsoft.com/office/outlook/2010/06/socialprovider.xsd}workPhone 425-555-1212\n",
      "{http://schemas.microsoft.com/office/outlook/2010/06/socialprovider.xsd}creationTime 2010-01-08T08:30:20-08:00\n",
      "{http://schemas.microsoft.com/office/outlook/2010/06/socialprovider.xsd}lastModificationTime 2010-01-08T11:40:14-08:00\n",
      "{http://schemas.microsoft.com/office/outlook/2010/06/socialprovider.xsd}expirationTime 2010-01-09T11:40:14-08:00\n",
      "{http://schemas.microsoft.com/office/outlook/2010/06/socialprovider.xsd}gender male\n",
      "{http://schemas.microsoft.com/office/outlook/2010/06/socialprovider.xsd}index 1\n"
     ]
    }
   ],
   "source": [
    "# Завдання 2\n",
    "# Створіть XML-файл із вкладеними елементами та скористайтеся мовою пошуку XPATH. Спробуйте здійснити пошук вмісту за створеним документом XML, \n",
    "# ускладнюючи свої запити та додаючи нові елементи, якщо буде потрібно.\n",
    "# Reference:\n",
    "# https://learn.microsoft.com/en-us/office/client-developer/outlook/social-connector/friends-xml-example\n",
    "import xml.etree.ElementTree as ET\n",
    "tree = ET.parse('data\\person.xml')\n",
    "root = tree.getroot()\n",
    "print(root.tag)\n",
    "for person in root:\n",
    "    print(person)\n",
    "    for element in person:\n",
    "        print(element.tag, element.text)"
   ]
  },
  {
   "cell_type": "code",
   "execution_count": 53,
   "id": "a12d17dd-ffd9-45c8-95e9-3b027c66a4e8",
   "metadata": {
    "tags": []
   },
   "outputs": [
    {
     "name": "stdout",
     "output_type": "stream",
     "text": [
      "name:      Лесь Дараган          , phone: +38 (080) 439-16-25 , e-mail: tsiutsiuraalbina@gov.ua, \n",
      "address:   вулиця Сєченова, буд. 5 кв. 286, Чистякове, 73298\n",
      "name:      Федір Голик           , phone: +38 (093) 811-85-26 , e-mail: hryhoriishamrai@email.ua, \n",
      "address:   площа Польська, буд. 330 кв. 929, Харків, 79743\n",
      "name:      Данна Ващенко-Захарченко, phone: +38 (010) 869-59-62 , e-mail: pkozak@sheremet.com, \n",
      "address:   сквер Амбулаторний 2-й, буд. 10 кв. 4, Новоград-Волинський, 67495\n",
      "name:      Омелян Бабенко        , phone: 046 268 38 22       , e-mail: ttsushko@email.ua, \n",
      "address:   проспект Шолохова, буд. 4, Львів, 78098\n",
      "name:      пан Теодор Рябошапка  , phone: +38 000 000 77 60   , e-mail: tetianadanylchuk@email.ua, \n",
      "address:   провулок Олександра Невського 1-й, буд. 43 кв. 446, Кальміуське, 39783\n"
     ]
    }
   ],
   "source": [
    "# Example from a lecture\n",
    "from faker import Faker\n",
    "\n",
    "fake = Faker(\"uk_UA\")    # можна використовувати кілька локальних налаштувань одночасно, передавши список\n",
    "for _ in range(5):\n",
    "    print(\n",
    "        f\"name:      {fake.name():<22}, phone: {fake.phone_number():<20}, e-mail: {fake.ascii_email()}, \"\n",
    "        f\"\\naddress:   {fake.address()}\"\n",
    "    )\n",
    "import csv\n",
    "\n",
    "with open('data/person.csv', 'w', newline='', encoding=\"utf-8\") as csvfile:\n",
    "    fieldnames = ['name', 'phone', 'e-mail', 'address']\n",
    "    writer = csv.DictWriter(csvfile, fieldnames=fieldnames, quoting=csv.QUOTE_ALL)\n",
    "    writer.writeheader()\n",
    "    for _ in range(100):\n",
    "        writer.writerow({'phone': fake.phone_number(), 'name': fake.name(), 'e-mail': fake.ascii_email(), 'address': fake.address()})\n",
    "with open('data/person.csv', 'r', encoding=\"utf-8\") as csvfile:\n",
    "    persons = csv.DictReader(csvfile)\n",
    "    persons_list = [person for person in persons]\n",
    "    \n",
    "from xml.etree import ElementTree as ET\n",
    "\n",
    "personal_data = ET.Element('data')  # створили корневий елемент\n",
    "\n",
    "for element in persons_list:\n",
    "    record = ET.SubElement(personal_data, 'record')     # створили новий запис (record) к корневому елементі\n",
    "    name = ET.SubElement(record, 'name')                # створили нове поле (name) у записі\n",
    "    name.text = str(element['name'])                    # внесли дані в створене поле\n",
    "    address = ET.SubElement(record, 'address')          # створили нове поле (address) у записі\n",
    "    address.text = str(element['address'])              # внесли дані в створене поле\n",
    "    phones = ET.SubElement(record, 'phones')\n",
    "    phone = ET.SubElement(phones, 'phone')\n",
    "    phone.text = str(element['phone'])\n",
    "    emails = ET.SubElement(record, 'emails')\n",
    "    email = ET.SubElement(emails, 'email')\n",
    "    email.text = str(element['e-mail'])\n",
    "\n",
    "tree = ET.ElementTree(personal_data)\n",
    "tree.write('data/person_2.xml', encoding='utf-8')"
   ]
  },
  {
   "cell_type": "code",
   "execution_count": 54,
   "id": "ff159013-f864-4ba8-9a5a-582656160912",
   "metadata": {},
   "outputs": [
    {
     "name": "stdout",
     "output_type": "stream",
     "text": [
      "name Христина Тимченко\n",
      "name Демʼян Овсієнко\n",
      "name Руслан Жук\n",
      "name Лесь Баштан\n",
      "name Руслан Забара\n"
     ]
    }
   ],
   "source": [
    "# My code\n",
    "tree = ET.parse('data\\person_2.xml')\n",
    "root = tree.getroot()\n",
    "for i in range(5):\n",
    "    person = root[i]\n",
    "    name = person[0]\n",
    "    print(name.tag, name.text)"
   ]
  },
  {
   "cell_type": "code",
   "execution_count": 76,
   "id": "c2baff2d-83eb-4e44-88b5-9cb860709c43",
   "metadata": {},
   "outputs": [
    {
     "name": "stdout",
     "output_type": "stream",
     "text": [
      "['Name', 'Age', 'Gender']\n",
      "['John', '30', 'Male']\n",
      "['Mary', '25', 'Female']\n"
     ]
    }
   ],
   "source": [
    "# Завдання 3\n",
    "# Попрацюйте зі створенням власних діалектів, довільно вибираючи правила для CSV-файлів. \n",
    "# Зареєструйте створені діалекти та попрацюйте, використовуючи їх зі створенням/читанням файлом.\n",
    "import csv\n",
    "\n",
    "csv.register_dialect('custom_dialect', delimiter='\\t', quotechar='#', quoting=csv.QUOTE_ALL)\n",
    "with open('data\\mydata.csv', 'w', newline='') as csvfile:\n",
    "    writer = csv.writer(csvfile, dialect='custom_dialect')\n",
    "    writer.writerow(['Name', 'Age', 'Gender'])\n",
    "    writer.writerow(['John', 30, 'Male'])\n",
    "    writer.writerow(['Mary', 25, 'Female'])\n",
    "with open('data\\mydata.csv', 'r') as csvfile:\n",
    "    reader = csv.reader(csvfile, dialect='custom_dialect')\n",
    "    for row in reader:\n",
    "        print(row)\n"
   ]
  },
  {
   "cell_type": "code",
   "execution_count": 65,
   "id": "6500f21a-6814-4819-aa16-c5866e9d16ba",
   "metadata": {},
   "outputs": [
    {
     "data": {
      "text/plain": [
       "[{'id': '1',\n",
       "  'weight': '87',\n",
       "  'height': '10',\n",
       "  'company': 'Зінченко Inc',\n",
       "  'color': 'Ніжно-блакитний'},\n",
       " {'id': '2',\n",
       "  'weight': '74',\n",
       "  'height': '71',\n",
       "  'company': 'Коваленко-Зінчук',\n",
       "  'color': 'Колір жовтого шкільного автобуса'}]"
      ]
     },
     "execution_count": 65,
     "metadata": {},
     "output_type": "execute_result"
    }
   ],
   "source": [
    "# Завдання 4\n",
    "# Створіть таблицю «матеріали» з таких полів: ідентифікатор, вага, висота та додаткові характеристики матеріалу. \n",
    "# Поле «додаткові  характеристики матеріалу» має зберігати у собі масив, кожен елемент якого є кортежем із двох значень: перше – назва характеристики, а друге – її значення.\n",
    "with open('data/materials.csv', 'w', newline='', encoding=\"utf-8\") as csvfile:\n",
    "    fieldnames = ['id', 'weight', 'height', 'company', 'color']\n",
    "    writer = csv.DictWriter(csvfile, fieldnames=fieldnames, quoting=csv.QUOTE_ALL)\n",
    "    writer.writeheader()\n",
    "    for i in range(2):\n",
    "        writer.writerow({'id': str(i+1), 'weight': fake.random_number(2), 'height': fake.random_number(2), 'company': fake.company(), 'color': fake.color_name()})\n",
    "with open('data/materials.csv', 'r', encoding=\"utf-8\") as csvfile:\n",
    "    data = csv.DictReader(csvfile)\n",
    "    data_list = [x for x in data]\n",
    "data_list"
   ]
  },
  {
   "cell_type": "code",
   "execution_count": 67,
   "id": "1092eef3-2578-4941-9cd8-c0656eed80a8",
   "metadata": {},
   "outputs": [
    {
     "data": {
      "text/plain": [
       "80.5"
      ]
     },
     "execution_count": 67,
     "metadata": {},
     "output_type": "execute_result"
    }
   ],
   "source": [
    "# Завдання 5\n",
    "# Для таблиці «матеріалу» з завдання 4 створіть користувальницьку агрегатну функцію, \n",
    "# яка рахує середнє значення ваги всіх матеріалів вислідної вибірки й округляє значення до цілого.\n",
    "def mean(data, col):\n",
    "    res = sum((int(d[col]) for d in data))\n",
    "    return res / len(data)\n",
    "with open('data/materials.csv', 'r', encoding=\"utf-8\") as csvfile:\n",
    "    data = csv.DictReader(csvfile)\n",
    "    data_list = [x for x in data]\n",
    "data_list\n",
    "mean(data_list, 'weight')"
   ]
  },
  {
   "cell_type": "code",
   "execution_count": 69,
   "id": "835c1b10-e79d-4244-9d93-fd2fec1b0301",
   "metadata": {},
   "outputs": [
    {
     "data": {
      "text/plain": [
       "['87;10;Ніжно-блакитний', '74;71;Колір жовтого шкільного автобуса']"
      ]
     },
     "execution_count": 69,
     "metadata": {},
     "output_type": "execute_result"
    }
   ],
   "source": [
    "# Завдання 6\n",
    "# Для таблиці «матеріалу» з завдання 4 створіть функцію користувача, яка приймає необмежену кількість полів і повертає їх конкатенацію.\n",
    "def get_data(data, *args):\n",
    "    res = [\";\".join([material[key] for key in args]) for material in data]\n",
    "    return res\n",
    "\n",
    "with open('data/materials.csv', 'r', encoding=\"utf-8\") as csvfile:\n",
    "    data = csv.DictReader(csvfile)\n",
    "    data_list = [x for x in data]\n",
    "get_data(data_list, 'weight', 'height','color')"
   ]
  },
  {
   "cell_type": "code",
   "execution_count": 71,
   "id": "f7d751c2-6357-40a9-920b-117947e7d1a7",
   "metadata": {},
   "outputs": [
    {
     "name": "stdout",
     "output_type": "stream",
     "text": [
      "Choose option\n",
      "-1:Add record;-2:Append data to the file;-3:Overwrite the file;-4:Show data;-5:Close\n"
     ]
    },
    {
     "name": "stdin",
     "output_type": "stream",
     "text": [
      "Choose option: 1\n",
      "Name: smile\n",
      "Last name: smilik\n",
      "Birthdate: 11.11.1996\n",
      "City Kyiv\n",
      "Choose option: 1\n",
      "Name: jay\n",
      "Last name: ray\n",
      "Birthdate: 12.12.1996\n",
      "City Monreal\n",
      "Choose option: 4\n"
     ]
    },
    {
     "name": "stdout",
     "output_type": "stream",
     "text": [
      "[{'name': 'smile', 'last_name': 'smilik', 'birth_date': '11.11.1996', 'city': 'Kyiv'}, {'name': 'jay', 'last_name': 'ray', 'birth_date': '12.12.1996', 'city': 'Monreal'}]\n"
     ]
    },
    {
     "name": "stdin",
     "output_type": "stream",
     "text": [
      "Choose option: 2\n",
      "Choose option: 5\n"
     ]
    }
   ],
   "source": [
    "# Завдання 7\n",
    "# Створіть функцію, яка формує CSV-файл на основі даних, введених користувачем через консоль. \n",
    "# Файл має містити такі стовпчики: імена, прізвища, дати народження та місто проживання. Реалізуйте можливості перезапису цього файлу, \n",
    "# додавання нових рядків до наявного файлу, рядкового читання з файлу та конвертації всього вмісту у формати та JSON.\n",
    "def write_to_file(csvfile, records):\n",
    "    fieldnames = ['name', 'last_name', 'birth_date', 'city']\n",
    "    writer = csv.DictWriter(csvfile, fieldnames=fieldnames, quoting=csv.QUOTE_ALL)\n",
    "    writer.writeheader()\n",
    "    for record in records:\n",
    "        writer.writerow(record)\n",
    "\n",
    "def input_csv():\n",
    "    print('Choose option\\n1:Add record;2:Append data to the file;3:Overwrite the file;4:Show data;5:Close')\n",
    "    records = []\n",
    "    while True:\n",
    "        c = input('Choose option:')\n",
    "        if c == '1':\n",
    "            record = {'name': input('Name:'), 'last_name': input('Last name:'), 'birth_date': input('Birthdate:'), 'city': input('City')}\n",
    "            records.append(record)\n",
    "        elif c == '4':\n",
    "            print(records)\n",
    "        elif c == '2':\n",
    "            with open('data/data.csv', 'a', newline='', encoding=\"utf-8\") as csvfile:\n",
    "                write_to_file(csvfile, records)\n",
    "        elif c == '3':\n",
    "            with open('data/data.csv', 'w', newline='', encoding=\"utf-8\") as csvfile:\n",
    "                write_to_file(csvfile, records)\n",
    "        elif c == '5':\n",
    "            break\n",
    "                    \n",
    "input_csv()"
   ]
  },
  {
   "cell_type": "code",
   "execution_count": null,
   "id": "0d07ccee-8ba0-411c-8f1b-add81043fd7f",
   "metadata": {},
   "outputs": [],
   "source": []
  }
 ],
 "metadata": {
  "kernelspec": {
   "display_name": "Python 3 (ipykernel)",
   "language": "python",
   "name": "python3"
  },
  "language_info": {
   "codemirror_mode": {
    "name": "ipython",
    "version": 3
   },
   "file_extension": ".py",
   "mimetype": "text/x-python",
   "name": "python",
   "nbconvert_exporter": "python",
   "pygments_lexer": "ipython3",
   "version": "3.11.1"
  }
 },
 "nbformat": 4,
 "nbformat_minor": 5
}
