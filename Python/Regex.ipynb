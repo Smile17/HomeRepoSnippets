{
 "cells": [
  {
   "cell_type": "code",
   "execution_count": 4,
   "id": "48c0dd30-019e-48f9-8f34-bf059175ef53",
   "metadata": {},
   "outputs": [],
   "source": [
    "import re"
   ]
  },
  {
   "cell_type": "code",
   "execution_count": 25,
   "id": "36764f5e-622d-4a01-b165-7088e1443c8b",
   "metadata": {},
   "outputs": [
    {
     "data": {
      "text/plain": [
       "{'Lorem': 2,\n",
       " 'Ipsum': 2,\n",
       " 'is': 1,\n",
       " 'simply': 1,\n",
       " 'dummy': 2,\n",
       " 'text': 2,\n",
       " 'of': 1,\n",
       " 'the': 2,\n",
       " 'printing': 1,\n",
       " 'and': 1,\n",
       " 'typesetting': 1,\n",
       " 'industry': 2,\n",
       " 'has': 1,\n",
       " 'been': 1,\n",
       " 's': 1,\n",
       " 'standard': 1,\n",
       " 'ever': 1,\n",
       " 'since': 1}"
      ]
     },
     "execution_count": 25,
     "metadata": {},
     "output_type": "execute_result"
    }
   ],
   "source": [
    "# Завдання 1\n",
    "#Написати функцію, яка за допомогою регулярних виразів розбиває текст на окремі слова і знаходить частоту окремих слів.\n",
    "def word_counts(text):\n",
    "    #words = re.split(' ', s)\n",
    "    words = re.findall(r'\\b\\w+\\b', text)\n",
    "    d = {}\n",
    "    for word in words:\n",
    "        if word in d:\n",
    "            d[word] += 1\n",
    "        else:\n",
    "            d[word] = 1\n",
    "    return d\n",
    "text = \"Lorem Ipsum is simply dummy text of the printing and typesetting industry. Lorem Ipsum has been the industry's standard dummy text ever since\"\n",
    "word_counts(text)"
   ]
  },
  {
   "cell_type": "code",
   "execution_count": 32,
   "id": "b7483d70-da0e-4ea5-9f24-cb988a4d454c",
   "metadata": {},
   "outputs": [
    {
     "name": "stdout",
     "output_type": "stream",
     "text": [
      "asfks fsdjs sdfsd +38063334096767 fsd sdf sd 0662833567\n",
      "d mtvka@gov.uaas dasd asd asd dfg\n",
      "11.07.1997 sdsdf +380993458967\n",
      "asd\n",
      "11.07.1996\n",
      "['+380633340967', '+380993458967']\n",
      "----------- Result -------------\n",
      "11.07.1997\t11.07.1996\n",
      "+380633340967\t+380993458967\n",
      "mtvka@gov.uaas\n"
     ]
    }
   ],
   "source": [
    "# Завдання 2\n",
    "# Написати функцію, яка за допомогою регулярних виразів з файлу витягує дані про дату народження, телефон та електронну адресу. Дані потрібно записати до іншого файлу.\n",
    "def get_personal_data(text):\n",
    "    date_reg = r'(1[1-2]|0[1-9])\\.(0[1-9]|[1-2][0-9])\\.(19[\\d]{2}|20[\\d]{2})' # data in format mm/dd/yyyy\n",
    "    dates = re.findall(date_reg, text)\n",
    "    dates = ['.'.join(date) for date in dates]\n",
    "    phone_reg = r'\\+[\\d]{12}'\n",
    "    phones = re.findall(phone_reg, text)\n",
    "    print(phones)\n",
    "    email_reg = r'[\\w\\d]+@[\\w][\\w]+.[\\w]+'\n",
    "    emails = re.findall(email_reg, text)\n",
    "    return dates, phones, emails\n",
    "def read_personal_data(input_path, output_path):\n",
    "    with open(input_path, 'r') as f:\n",
    "        text = f.readlines()\n",
    "        text = ''.join(text)\n",
    "        print(text)\n",
    "        dates, phones, emails = get_personal_data(text)\n",
    "    with open(output_path, 'w') as f:\n",
    "        f.writelines('\\t'.join(dates))\n",
    "        f.writelines('\\n')\n",
    "        f.writelines('\\t'.join(phones))\n",
    "        f.writelines('\\n')\n",
    "        f.writelines('\\t'.join(emails))\n",
    "    print(\"----------- Result -------------\")\n",
    "    with open(output_path, 'r') as f:\n",
    "        text = f.readlines()\n",
    "        text = ''.join(text)\n",
    "        print(text)\n",
    "        \n",
    "read_personal_data('input.txt', 'output.txt')"
   ]
  },
  {
   "cell_type": "code",
   "execution_count": 33,
   "id": "a0746fb9-8d17-408c-99b8-d72cb89b3282",
   "metadata": {},
   "outputs": [
    {
     "data": {
      "text/plain": [
       "['rem',\n",
       " 'sum',\n",
       " 'ply',\n",
       " 'mmy',\n",
       " 'ext',\n",
       " 'the',\n",
       " 'ing',\n",
       " 'and',\n",
       " 'ing',\n",
       " 'try',\n",
       " 'rem',\n",
       " 'sum',\n",
       " 'has',\n",
       " 'een',\n",
       " 'the',\n",
       " 'try',\n",
       " 'ard',\n",
       " 'mmy',\n",
       " 'ext',\n",
       " 'ver',\n",
       " 'nce']"
      ]
     },
     "execution_count": 33,
     "metadata": {},
     "output_type": "execute_result"
    }
   ],
   "source": [
    "# Завдання 3\n",
    "# Користувач вводить з клавіатури пропозицію. Написати функцію, яка друкуватиме на екран останні 3 символи кожного слова.\n",
    "def word_last_letters(text):\n",
    "    res = re.findall(r'(?:.*?(\\w{3})\\b)', text)\n",
    "    return res\n",
    "text = \"Lorem Ipsum is simply dummy text of the printing and typesetting industry. Lorem Ipsum has been the industry's standard dummy text ever since\"\n",
    "word_last_letters(text)"
   ]
  },
  {
   "cell_type": "code",
   "execution_count": 35,
   "id": "c346f915-0ae2-4120-b3f0-957bbf934292",
   "metadata": {},
   "outputs": [
    {
     "data": {
      "text/plain": [
       "(['is',\n",
       "  'simply',\n",
       "  'of',\n",
       "  'printing',\n",
       "  'and',\n",
       "  'typesetting',\n",
       "  'has',\n",
       "  'been',\n",
       "  's',\n",
       "  'standard',\n",
       "  'ever',\n",
       "  'since'],\n",
       " 12,\n",
       " 24)"
      ]
     },
     "execution_count": 35,
     "metadata": {},
     "output_type": "execute_result"
    }
   ],
   "source": [
    "# Завдання 4\n",
    "# Напишіть функцію, яка буде аналізувати текст, що надходить до неї, і виводити тільки унікальні слова на екран, загальну кількість слів і кількість унікальних слів.\n",
    "def unique_words(text):\n",
    "    d = word_counts(text)\n",
    "    unique = []\n",
    "    count = 0\n",
    "    for key in d:\n",
    "        if d[key] == 1:\n",
    "            unique.append(key)\n",
    "        count += d[key]\n",
    "    return unique, len(unique), count\n",
    "text = \"Lorem Ipsum is simply dummy text of the printing and typesetting industry. Lorem Ipsum has been the industry's standard dummy text ever since\"\n",
    "unique_words(text)"
   ]
  },
  {
   "cell_type": "code",
   "execution_count": 49,
   "id": "aed42839-13bf-4a88-9f6a-a4995eb59d14",
   "metadata": {},
   "outputs": [
    {
     "name": "stdout",
     "output_type": "stream",
     "text": [
      "asfks fsdjs sdfsd +38063334096767 fsd sdf sd 0662833567\n",
      "d mtvka@gov.uaas dasd asd asd dfg\n",
      "11.07.1997 sdsdf +380993458967\n",
      "asd\n",
      "11.07.1996\n",
      "Feedback: sdfsf asdas ads\n",
      "Masd Mret Yasd\n",
      "KKK\n",
      "['+380633340967', '+380993458967']\n",
      "----------- Result -------------\n",
      "11.07.1997\t11.07.1996\n",
      "+380633340967\t+380993458967\n",
      "mtvka@gov.uaas\n",
      "Masd Mret Yasd\n",
      "Feedback: sdfsf asdas ads\n"
     ]
    }
   ],
   "source": [
    "# Завдання 5\n",
    "# З клавіатури вводиться рядок, в якому є інформація про прізвище, ім'я, дату народження, електронну адресу та відгук про курси учня. \n",
    "# Написати функцію, яка, використовуючи регулярні вирази, витягне дані з рядка і поверне словник.\n",
    "def get_more_personal_data(text):\n",
    "    dates, phones, emails = get_personal_data(text)\n",
    "    name_reg = r'[A-Z]\\w+ [A-Z]\\w+ [A-Z]\\w+'\n",
    "    names = re.findall(name_reg, text)\n",
    "    feedback_regex = r'Feedback: .+\\b'\n",
    "    feedback = re.findall(feedback_regex, text)\n",
    "    return dates, phones, emails, names, feedback\n",
    "def read_more_personal_data(input_path, output_path):\n",
    "    with open(input_path, 'r') as f:\n",
    "        text = f.readlines()\n",
    "        text = ''.join(text)\n",
    "        print(text)\n",
    "        dates, phones, emails, names, feedback = get_more_personal_data(text)\n",
    "    with open(output_path, 'w') as f:\n",
    "        f.writelines('\\t'.join(dates))\n",
    "        f.writelines('\\n')\n",
    "        f.writelines('\\t'.join(phones))\n",
    "        f.writelines('\\n')\n",
    "        f.writelines('\\t'.join(emails))\n",
    "        f.writelines('\\n')\n",
    "        f.writelines('\\t'.join(names))\n",
    "        f.writelines('\\n')\n",
    "        f.writelines('\\t'.join(feedback))\n",
    "    print(\"----------- Result -------------\")\n",
    "    with open(output_path, 'r') as f:\n",
    "        text = f.readlines()\n",
    "        text = ''.join(text)\n",
    "        print(text)\n",
    "read_more_personal_data('input.txt', 'output.txt')"
   ]
  },
  {
   "cell_type": "code",
   "execution_count": null,
   "id": "e71c184f-9d4c-4ef0-b899-d92b6616327a",
   "metadata": {},
   "outputs": [],
   "source": []
  }
 ],
 "metadata": {
  "kernelspec": {
   "display_name": "Python 3 (ipykernel)",
   "language": "python",
   "name": "python3"
  },
  "language_info": {
   "codemirror_mode": {
    "name": "ipython",
    "version": 3
   },
   "file_extension": ".py",
   "mimetype": "text/x-python",
   "name": "python",
   "nbconvert_exporter": "python",
   "pygments_lexer": "ipython3",
   "version": "3.11.1"
  }
 },
 "nbformat": 4,
 "nbformat_minor": 5
}
