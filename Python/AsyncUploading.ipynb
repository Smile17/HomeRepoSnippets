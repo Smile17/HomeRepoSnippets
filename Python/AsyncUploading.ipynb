{
 "cells": [
  {
   "cell_type": "code",
   "execution_count": 3,
   "id": "b3d6193c-efeb-44ab-bf0a-9812e2da8354",
   "metadata": {},
   "outputs": [
    {
     "name": "stdout",
     "output_type": "stream",
     "text": [
      "Connection to SQLite DB successful\n",
      "Query executed successfully\n",
      "Query executed successfully\n"
     ]
    }
   ],
   "source": [
    "\"\"\"\n",
    "Завдання 1\n",
    "Створіть співпрограму, яка отримує контент із зазначених посилань і логує хід виконання в database, використовуючи стандартну бібліотеку requests, \n",
    "а потім проробіть те саме з бібліотекою aiohttp. Кроки, які мають бути залоговані: початок запиту до адреси X, відповідь для адреси X отримано \n",
    "зі статусом 200. Перевірте хід виконання програми на >3 ресурсах і перегляньте послідовність запису логів в обох варіантах і порівняйте результати. \n",
    "Для двох видів завдань використовуйте різні файли для логування, щоби порівняти отриманий результат. \n",
    "\"\"\"\n",
    "import sqlite3\n",
    "from sqlite3 import Error\n",
    "\n",
    "def create_connection(path):\n",
    "    connection = None\n",
    "    try:\n",
    "        connection = sqlite3.connect(path)\n",
    "        print(\"Connection to SQLite DB successful\")\n",
    "    except Error as e:\n",
    "        print(f\"The error '{e}' occurred\")\n",
    "\n",
    "    return connection\n",
    "def execute_query(connection, query):\n",
    "    cursor = connection.cursor()\n",
    "    try:\n",
    "        cursor.execute(query)\n",
    "        connection.commit()\n",
    "        print(\"Query executed successfully\")\n",
    "    except Error as e:\n",
    "        print(f\"The error '{e}' occurred\")\n",
    "def execute_read_query(connection, query):\n",
    "    cursor = connection.cursor()\n",
    "    result = None\n",
    "    try:\n",
    "        cursor.execute(query)\n",
    "        result = cursor.fetchall()\n",
    "        return result\n",
    "    except Error as e:\n",
    "        print(f\"The error '{e}' occurred\")\n",
    "\n",
    "def read_all_data(table_name):\n",
    "    select_records = \"SELECT * from \" + table_name\n",
    "    records = execute_read_query(connection, select_records)\n",
    "\n",
    "    for rec in records:\n",
    "        print(rec)\n",
    "\n",
    "connection = create_connection(\"./data/sqliteDB\")\n",
    "\n",
    "create_table = \"\"\"\n",
    "CREATE TABLE IF NOT EXISTS logging_sync (\n",
    "  id INTEGER PRIMARY KEY AUTOINCREMENT,\n",
    "  url TEXT NOT NULL,\n",
    "  status_code TEXT NOT NULL,\n",
    "  datetime TIMESTAMP NOT NULL\n",
    ");\n",
    "\"\"\"\n",
    "execute_query(connection, create_table)\n",
    "\n",
    "create_table = \"\"\"\n",
    "CREATE TABLE IF NOT EXISTS logging_async (\n",
    "  id INTEGER PRIMARY KEY AUTOINCREMENT,\n",
    "  url TEXT NOT NULL,\n",
    "  status_code TEXT NOT NULL,\n",
    "  datetime TIMESTAMP NOT NULL\n",
    ");\n",
    "\"\"\"\n",
    "execute_query(connection, create_table)"
   ]
  },
  {
   "cell_type": "code",
   "execution_count": 11,
   "id": "82139e7b-36ec-4160-816d-be895620239f",
   "metadata": {},
   "outputs": [
    {
     "name": "stdout",
     "output_type": "stream",
     "text": [
      "Query executed successfully\n",
      "Query executed successfully\n",
      "0 --> Read 225854 from https://github.com/\n",
      "Query executed successfully\n",
      "1 --> Read 10782 from https://www.jython.org\n",
      "Query executed successfully\n",
      "2 --> Read 225654 from https://github.com/\n",
      "Query executed successfully\n",
      "3 --> Read 10782 from https://www.jython.org\n",
      "Query executed successfully\n",
      "4 --> Read 225654 from https://github.com/\n",
      "Query executed successfully\n",
      "5 --> Read 10782 from https://www.jython.org\n",
      "Query executed successfully\n",
      "6 --> Read 225654 from https://github.com/\n",
      "Query executed successfully\n",
      "7 --> Read 10782 from https://www.jython.org\n",
      "Query executed successfully\n",
      "8 --> Read 225644 from https://github.com/\n",
      "Query executed successfully\n",
      "9 --> Read 10782 from https://www.jython.org\n",
      "Duration = 1.4793338775634766\n"
     ]
    }
   ],
   "source": [
    "import requests\n",
    "import functools\n",
    "import time\n",
    "\n",
    "\n",
    "def get_duration(func):\n",
    "    @functools.wraps(func)\n",
    "    def wrapper(*args, **kwargs):\n",
    "        start_time = time.time()\n",
    "        res = func(*args, **kwargs)\n",
    "        duration = time.time() - start_time\n",
    "        print(f\"Duration = {duration}\")\n",
    "        return res\n",
    "    return wrapper\n",
    "\n",
    "\n",
    "def download_site(url, session, count):\n",
    "    with session.get(url) as response:\n",
    "        status = response.status_code\n",
    "        date = response.headers['Date']\n",
    "        insert_query = \"\"\"\n",
    "            INSERT INTO\n",
    "                logging_sync (url, status_code, datetime)\n",
    "            VALUES\n",
    "        \"\"\" + f\"\"\"(\"{url}\", {status}, \"{date}\")\"\"\"\n",
    "        execute_query(connection, insert_query)\n",
    "        print(f\"{count} --> Read {len(response.content)} from {url}\")\n",
    "\n",
    "@get_duration\n",
    "def download_all_sites(sites):\n",
    "    with requests.Session() as session:\n",
    "        for count, url in enumerate(sites):\n",
    "            download_site(url, session, count)\n",
    "\n",
    "sites = [\n",
    "    \"https://github.com/\",\n",
    "    \"https://www.jython.org\"\n",
    "] * 5\n",
    "\n",
    "delete_query = \"DELETE FROM logging_sync\"\n",
    "execute_query(connection, delete_query)\n",
    "download_all_sites(sites)"
   ]
  },
  {
   "cell_type": "code",
   "execution_count": 12,
   "id": "44228c56-de90-4ff3-adb5-cb9fafe5532f",
   "metadata": {},
   "outputs": [
    {
     "name": "stdout",
     "output_type": "stream",
     "text": [
      "(11, 'https://github.com/', '200', 'Fri, 31 Mar 2023 10:57:57 GMT')\n",
      "(12, 'https://www.jython.org', '200', 'Fri, 31 Mar 2023 10:58:07 GMT')\n",
      "(13, 'https://github.com/', '200', 'Fri, 31 Mar 2023 10:57:58 GMT')\n",
      "(14, 'https://www.jython.org', '200', 'Fri, 31 Mar 2023 10:58:07 GMT')\n",
      "(15, 'https://github.com/', '200', 'Fri, 31 Mar 2023 10:57:58 GMT')\n",
      "(16, 'https://www.jython.org', '200', 'Fri, 31 Mar 2023 10:58:08 GMT')\n",
      "(17, 'https://github.com/', '200', 'Fri, 31 Mar 2023 10:57:58 GMT')\n",
      "(18, 'https://www.jython.org', '200', 'Fri, 31 Mar 2023 10:58:08 GMT')\n",
      "(19, 'https://github.com/', '200', 'Fri, 31 Mar 2023 10:58:08 GMT')\n",
      "(20, 'https://www.jython.org', '200', 'Fri, 31 Mar 2023 10:58:08 GMT')\n"
     ]
    }
   ],
   "source": [
    "read_all_data('logging_sync')"
   ]
  },
  {
   "cell_type": "code",
   "execution_count": 51,
   "id": "210b4ded-1dfd-4efd-892b-da693027c4b2",
   "metadata": {},
   "outputs": [
    {
     "name": "stdout",
     "output_type": "stream",
     "text": [
      "Read 3721 from https://www.jython.org\n",
      "Query executed successfully\n",
      "Read 3721 from https://www.jython.org\n",
      "Query executed successfully\n",
      "Read 3721 from https://www.jython.org\n",
      "Query executed successfully\n",
      "Read 3721 from https://www.jython.org\n",
      "Query executed successfully\n",
      "Read 3721 from https://www.jython.org\n",
      "Query executed successfully\n",
      "Read 5507 from https://ipython.org/\n",
      "Query executed successfully\n",
      "Read 5507 from https://ipython.org/\n",
      "Query executed successfully\n",
      "Read 5507 from https://ipython.org/\n",
      "Query executed successfully\n",
      "Read 5507 from https://ipython.org/\n",
      "Query executed successfully\n",
      "Read 5507 from https://ipython.org/\n",
      "Query executed successfully\n",
      "Duration = 0.36815762519836426\n"
     ]
    }
   ],
   "source": [
    "import asyncio\n",
    "import time\n",
    "import aiohttp\n",
    "import functools\n",
    "\n",
    "\n",
    "async def download_site(session, url):\n",
    "    async with session.get(url) as response:        \n",
    "        print(f\"Read {response.content_length} from {url}\")\n",
    "        status = response.status\n",
    "        date = response.headers['Date']\n",
    "        insert_query = \"\"\"\n",
    "            INSERT INTO\n",
    "                logging_async (url, status_code, datetime)\n",
    "            VALUES\n",
    "        \"\"\" + f\"\"\"(\"{url}\", {status}, \"{date}\")\"\"\"\n",
    "        execute_query(connection, insert_query)\n",
    "        \n",
    "\n",
    "\n",
    "async def download_all_sites(sites):\n",
    "    async with aiohttp.ClientSession() as session:\n",
    "        tasks = []\n",
    "        for url in sites:\n",
    "            task = asyncio.ensure_future(download_site(session, url))\n",
    "            tasks.append(task)\n",
    "        await asyncio.gather(*tasks, return_exceptions=True)\n",
    "\n",
    "sites = [\n",
    "    \"https://ipython.org/\",\n",
    "    \"https://www.jython.org\"\n",
    "] * 5\n",
    "\n",
    "if __name__ == \"__main__\":\n",
    "    delete_query = \"DELETE FROM logging_async\"\n",
    "    #execute_query(connection, delete_query)\n",
    "    asyncio.set_event_loop_policy(asyncio.WindowsSelectorEventLoopPolicy())\n",
    "    start_time = time.time()\n",
    "    await download_all_sites(sites)\n",
    "    duration = time.time() - start_time\n",
    "    print(f\"Duration = {duration}\")"
   ]
  },
  {
   "cell_type": "code",
   "execution_count": 52,
   "id": "0f4d9ef9-0db2-4cd8-9691-3a238be97fa6",
   "metadata": {},
   "outputs": [
    {
     "name": "stdout",
     "output_type": "stream",
     "text": [
      "(1, 'https://www.jython.org', '200', 'Fri, 31 Mar 2023 11:26:16 GMT')\n",
      "(2, 'https://www.jython.org', '200', 'Fri, 31 Mar 2023 11:26:16 GMT')\n",
      "(3, 'https://www.jython.org', '200', 'Fri, 31 Mar 2023 11:26:16 GMT')\n",
      "(4, 'https://www.jython.org', '200', 'Fri, 31 Mar 2023 11:26:16 GMT')\n",
      "(5, 'https://www.jython.org', '200', 'Fri, 31 Mar 2023 11:26:16 GMT')\n",
      "(6, 'https://ipython.org/', '200', 'Fri, 31 Mar 2023 11:26:16 GMT')\n",
      "(7, 'https://ipython.org/', '200', 'Fri, 31 Mar 2023 11:26:16 GMT')\n",
      "(8, 'https://ipython.org/', '200', 'Fri, 31 Mar 2023 11:26:16 GMT')\n",
      "(9, 'https://ipython.org/', '200', 'Fri, 31 Mar 2023 11:26:16 GMT')\n",
      "(10, 'https://ipython.org/', '200', 'Fri, 31 Mar 2023 11:26:16 GMT')\n"
     ]
    }
   ],
   "source": [
    "read_all_data('logging_async')"
   ]
  },
  {
   "cell_type": "code",
   "execution_count": null,
   "id": "2c994641-0ba9-4ce1-b0aa-4b5a6c7d003a",
   "metadata": {},
   "outputs": [],
   "source": []
  },
  {
   "cell_type": "code",
   "execution_count": null,
   "id": "74eb1de9-0e0f-4a00-bf98-71602a691b5b",
   "metadata": {},
   "outputs": [],
   "source": []
  },
  {
   "cell_type": "code",
   "execution_count": null,
   "id": "aa85daf4-cc4d-4e9d-9027-c9ea61f1d4a0",
   "metadata": {},
   "outputs": [],
   "source": []
  }
 ],
 "metadata": {
  "kernelspec": {
   "display_name": "Python 3 (ipykernel)",
   "language": "python",
   "name": "python3"
  },
  "language_info": {
   "codemirror_mode": {
    "name": "ipython",
    "version": 3
   },
   "file_extension": ".py",
   "mimetype": "text/x-python",
   "name": "python",
   "nbconvert_exporter": "python",
   "pygments_lexer": "ipython3",
   "version": "3.11.1"
  }
 },
 "nbformat": 4,
 "nbformat_minor": 5
}
