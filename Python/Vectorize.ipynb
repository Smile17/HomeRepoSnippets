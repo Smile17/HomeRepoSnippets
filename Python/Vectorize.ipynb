{
 "cells": [
  {
   "cell_type": "code",
   "execution_count": 5,
   "id": "a89a125b-0b7e-489b-b621-3b1e2b1be51e",
   "metadata": {},
   "outputs": [],
   "source": [
    "n = 100000000\n",
    "arr = list(range(n))\n",
    "#print(arr)"
   ]
  },
  {
   "cell_type": "code",
   "execution_count": 7,
   "id": "0b4db927-4fa7-4c6d-a858-e0d6aef6b277",
   "metadata": {},
   "outputs": [
    {
     "name": "stdout",
     "output_type": "stream",
     "text": [
      "Done! time_map in 9.448588299914263 secs\n"
     ]
    }
   ],
   "source": [
    "import functools\n",
    "import time\n",
    "def timer(func):\n",
    "    \"\"\"Print the runtime of the decorated function.\"\"\"\n",
    "    @functools.wraps(func)\n",
    "    def wrapper_timer(*args, **kwargs):\n",
    "        start_time = time.perf_counter()\n",
    "        value = func(*args, **kwargs)\n",
    "        end_time = time.perf_counter()\n",
    "        runtime = end_time - start_time\n",
    "        print(f\"Done! {func.__name__} in {runtime} secs\")\n",
    "        return value\n",
    "\n",
    "    return wrapper_timer\n",
    "\n",
    "@timer\n",
    "def time_map(func, arr):\n",
    "    list(map(func, arr))\n",
    "    \n",
    "def func(x):\n",
    "    return x + 1\n",
    "time_map(func, arr)"
   ]
  },
  {
   "cell_type": "code",
   "execution_count": 8,
   "id": "99b89d5a-5e00-43be-a188-9fa6541f1559",
   "metadata": {},
   "outputs": [
    {
     "name": "stdout",
     "output_type": "stream",
     "text": [
      "Done! time_comp in 10.153318399912678 secs\n"
     ]
    }
   ],
   "source": [
    "@timer\n",
    "def time_comp(func, arr):\n",
    "    [func(x) for x in arr]\n",
    "time_comp(func, arr)"
   ]
  },
  {
   "cell_type": "code",
   "execution_count": 10,
   "id": "15759829-6b96-49f1-be07-9515f329b2b4",
   "metadata": {},
   "outputs": [
    {
     "name": "stdout",
     "output_type": "stream",
     "text": [
      "Done! time_vect in 20.97051959997043 secs\n"
     ]
    }
   ],
   "source": [
    "import numpy as np\n",
    "@timer\n",
    "def time_vect(func, arr):\n",
    "    func = np.vectorize(func)\n",
    "    func(arr)\n",
    "    \n",
    "time_vect(func, arr)"
   ]
  },
  {
   "cell_type": "code",
   "execution_count": 12,
   "id": "3d354e0e-86a2-44a4-8730-7a80f3a036f0",
   "metadata": {},
   "outputs": [
    {
     "name": "stdout",
     "output_type": "stream",
     "text": [
      "Done! time_loop in 10.6998397000134 secs\n"
     ]
    }
   ],
   "source": [
    "@timer\n",
    "def time_loop(func, arr):\n",
    "    res = []\n",
    "    for x in arr:\n",
    "        res.append(func(x))\n",
    "    \n",
    "time_loop(func, arr)"
   ]
  },
  {
   "cell_type": "code",
   "execution_count": 13,
   "id": "553d1b4c-9d3f-4c29-ae98-f711c5f36613",
   "metadata": {},
   "outputs": [],
   "source": [
    "arr = np.array(arr)"
   ]
  },
  {
   "cell_type": "code",
   "execution_count": 14,
   "id": "385fd667-ad0a-4f5e-b81a-8bd8ba2272e5",
   "metadata": {},
   "outputs": [
    {
     "name": "stdout",
     "output_type": "stream",
     "text": [
      "Done! time_map in 15.277777899987996 secs\n",
      "Done! time_comp in 15.472213699948043 secs\n",
      "Done! time_vect in 15.350953699904494 secs\n",
      "Done! time_loop in 17.064274600008503 secs\n"
     ]
    }
   ],
   "source": [
    "time_map(func, arr)\n",
    "time_comp(func, arr)\n",
    "time_vect(func, arr)\n",
    "time_loop(func, arr)"
   ]
  },
  {
   "cell_type": "code",
   "execution_count": 16,
   "id": "03c43d5d-0cdb-45a3-8c84-6525511c38ad",
   "metadata": {},
   "outputs": [
    {
     "name": "stdout",
     "output_type": "stream",
     "text": [
      "Done! time_map in 15.240042499965057 secs\n",
      "Done! time_comp in 17.220608900068328 secs\n",
      "Done! time_vect in 15.801259099971503 secs\n",
      "Done! time_loop in 21.39029849995859 secs\n"
     ]
    }
   ],
   "source": [
    "arr = np.arange(n)\n",
    "time_map(func, arr)\n",
    "time_comp(func, arr)\n",
    "time_vect(func, arr)\n",
    "time_loop(func, arr)"
   ]
  },
  {
   "cell_type": "code",
   "execution_count": null,
   "id": "662d3c95-c993-48fd-a539-cc7109e04591",
   "metadata": {},
   "outputs": [],
   "source": []
  }
 ],
 "metadata": {
  "kernelspec": {
   "display_name": "Python 3 (ipykernel)",
   "language": "python",
   "name": "python3"
  },
  "language_info": {
   "codemirror_mode": {
    "name": "ipython",
    "version": 3
   },
   "file_extension": ".py",
   "mimetype": "text/x-python",
   "name": "python",
   "nbconvert_exporter": "python",
   "pygments_lexer": "ipython3",
   "version": "3.11.1"
  }
 },
 "nbformat": 4,
 "nbformat_minor": 5
}
